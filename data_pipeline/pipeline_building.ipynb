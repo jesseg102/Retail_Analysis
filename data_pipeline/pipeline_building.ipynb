{
 "cells": [
  {
   "cell_type": "code",
   "execution_count": 26,
   "metadata": {},
   "outputs": [],
   "source": [
    "import numpy as np\n",
    "\n",
    "import pandas as pd\n",
    "\n",
    "import pymysql as mysql\n",
    "import matplotlib.pyplot as plt\n",
    "import pandas as pd\n",
    "from sqlalchemy import create_engine\n",
    "\n",
    "conn=mysql.connect(host='localhost',port=int(3306),user= 'root',passwd='password',db='retail_database')"
   ]
  },
  {
   "cell_type": "code",
   "execution_count": 3,
   "metadata": {},
   "outputs": [],
   "source": [
    "# Load the CSV files into DataFrames\n",
    "df_customer_info = pd.read_csv('/Users/smsultanmahmudrahat/Downloads/department/ADS_last_Project/project/data/customer_info.csv')\n",
    "df_transactions_details = pd.read_csv('/Users/smsultanmahmudrahat/Downloads/department/ADS_last_Project/project/data/transaction_details.csv')\n",
    "df_transaction_logistics = pd.read_csv('/Users/smsultanmahmudrahat/Downloads/department/ADS_last_Project/project/data/transaction_logistics.csv')\n",
    "df_product_info = pd.read_csv('/Users/smsultanmahmudrahat/Downloads/department/ADS_last_Project/project/data/product_info.csv')\n",
    "df_feedback = pd.read_csv('/Users/smsultanmahmudrahat/Downloads/department/ADS_last_Project/project/data/feedback.csv')"
   ]
  },
  {
   "cell_type": "code",
   "execution_count": 28,
   "metadata": {},
   "outputs": [
    {
     "name": "stdout",
     "output_type": "stream",
     "text": [
      "Data inserted successfully.\n"
     ]
    }
   ],
   "source": [
    "import pandas as pd\n",
    "from sqlalchemy import create_engine\n",
    "\n",
    "# Database connection details\n",
    "db_username = 'root'\n",
    "db_password = 'password'\n",
    "db_host = 'localhost'  # e.g., 'localhost'\n",
    "db_database = 'retail_database'  # Database name\n",
    "\n",
    "\n",
    "# Create a connection to the database\n",
    "engine = create_engine(f'mysql+pymysql://{db_username}:{db_password}@{db_host}/{db_database}')\n",
    "\n",
    "# Insert data into the tables\n",
    "df_customer_info.to_sql('customer_info', con=engine, if_exists='append', index=False)\n",
    "print(\"Data inserted successfully.\")\n"
   ]
  },
  {
   "cell_type": "code",
   "execution_count": 33,
   "metadata": {},
   "outputs": [],
   "source": [
    "# Function to parse dates with multiple formats\n",
    "def parse_dates(date_str):\n",
    "    for fmt in ('%m/%d/%Y', '%m/%d/%y'):\n",
    "        try:\n",
    "            return pd.to_datetime(date_str, format=fmt)\n",
    "        except ValueError:\n",
    "            pass\n",
    "    raise ValueError(f\"no valid date format found for {date_str}\")\n",
    "df_transactions_details['Date'] = df_transactions_details['Date'].apply(parse_dates).dt.strftime('%Y-%m-%d')\n"
   ]
  },
  {
   "cell_type": "code",
   "execution_count": 36,
   "metadata": {},
   "outputs": [
    {
     "data": {
      "text/plain": [
       "300749"
      ]
     },
     "execution_count": 36,
     "metadata": {},
     "output_type": "execute_result"
    }
   ],
   "source": [
    "df_transactions_details.to_sql('transactions_details', con=engine, if_exists='append', index=False)\n"
   ]
  },
  {
   "cell_type": "code",
   "execution_count": 37,
   "metadata": {},
   "outputs": [
    {
     "data": {
      "text/plain": [
       "300749"
      ]
     },
     "execution_count": 37,
     "metadata": {},
     "output_type": "execute_result"
    }
   ],
   "source": [
    "df_transaction_logistics.to_sql('transaction_logistics', con=engine, if_exists='replace', index=False)"
   ]
  },
  {
   "cell_type": "code",
   "execution_count": 39,
   "metadata": {},
   "outputs": [
    {
     "data": {
      "text/plain": [
       "300749"
      ]
     },
     "execution_count": 39,
     "metadata": {},
     "output_type": "execute_result"
    }
   ],
   "source": [
    "df_product_info.to_sql('product_info', con=engine, if_exists='append', index=False)"
   ]
  },
  {
   "cell_type": "code",
   "execution_count": 40,
   "metadata": {},
   "outputs": [
    {
     "data": {
      "text/plain": [
       "300749"
      ]
     },
     "execution_count": 40,
     "metadata": {},
     "output_type": "execute_result"
    }
   ],
   "source": [
    "df_feedback.to_sql('feedback', con=engine, if_exists='replace', index=False)"
   ]
  },
  {
   "cell_type": "code",
   "execution_count": 44,
   "metadata": {},
   "outputs": [
    {
     "name": "stdout",
     "output_type": "stream",
     "text": [
      "Executing query: SHOW TABLES IN retail_database;\n",
      "('customer_info',)\n",
      "('feedback',)\n",
      "('product_info',)\n",
      "('transaction_logistics',)\n",
      "('transactions_details',)\n",
      "\n",
      "\n",
      "Executing query: SELECT * FROM customer_info LIMIT 10;\n",
      "(1, 37249, 'Michelle Harrington', 'Ebony39@gmail.com', '1414786801', '3959 Amanda Burgs', 'Dortmund', 'Berlin', '77985', 'Germany', 21, 'Male', 'Low', 'Regular')\n",
      "(2, 69749, 'Kelsey Hill', 'Mark36@gmail.com', '6852899987', '82072 Dawn Centers', 'Nottingham', 'England', '99071', 'UK', 19, 'Female', 'Low', 'Premium')\n",
      "(3, 30192, 'Scott Jensen', 'Shane85@gmail.com', '8362160449', '4133 Young Canyon', 'Geelong', 'New South Wales', '75929', 'Australia', 48, 'Male', 'Low', 'Regular')\n",
      "(4, 62101, 'Joseph Miller', 'Mary34@gmail.com', '2776751724', '8148 Thomas Creek Suite 100', 'Edmonton', 'Ontario', '88420', 'Canada', 56, 'Male', 'High', 'Premium')\n",
      "(5, 27901, 'Debra Coleman', 'Charles30@gmail.com', '9098267635', '5813 Lori Ports Suite 269', 'Bristol', 'England', '48704', 'UK', 22, 'Male', 'Low', 'Premium')\n",
      "(6, 41289, 'Ryan Johnson', 'Haley12@gmail.com', '3292677006', '532 Ashley Crest Suite 014', 'Brisbane', 'New South Wales', '74430', 'Australia', 58, 'Female', 'Medium', 'Premium')\n",
      "(7, 97285, 'Erin Lewis', 'Arthur76@gmail.com', '1578355423', '600 Brian Prairie Suite 497', 'Kitchener', 'Ontario', '47545', 'Canada', 29, 'Female', 'Low', 'New')\n",
      "(8, 26603, 'Angela Fields', 'Tanya94@gmail.com', '3668096144', '237 Young Curve', 'Munich', 'Berlin', '86862', 'Germany', 29, 'Male', 'Medium', 'Premium')\n",
      "(9, 80175, 'Diane Clark', 'Martin39@gmail.com', '6219779557', '8823 Mariah Heights Apt. 263', 'Wollongong', 'New South Wales', '39820', 'Australia', 46, 'Male', 'Medium', 'New')\n",
      "(10, 31878, 'Lori Bell', 'Jessica33@gmail.com', '6004895059', '6225 William Lodge', 'Cologne', 'Berlin', '64317', 'Germany', 25, 'Male', 'Medium', 'New')\n",
      "\n",
      "\n",
      "Executing query: SELECT * FROM transactions_details LIMIT 10;\n",
      "(1, 8691788, 37249, datetime.date(2023, 9, 18), 2023, 'September', datetime.timedelta(seconds=79435), 3, Decimal('108.03'), Decimal('324.09'))\n",
      "(2, 2174773, 69749, datetime.date(2023, 12, 31), 2023, 'December', datetime.timedelta(seconds=31324), 2, Decimal('403.35'), Decimal('806.71'))\n",
      "(3, 6679610, 30192, datetime.date(2023, 4, 26), 2023, 'April', datetime.timedelta(seconds=14789), 3, Decimal('354.48'), Decimal('1063.43'))\n",
      "(4, 7232460, 62101, datetime.date(2023, 5, 8), 2023, 'May', datetime.timedelta(seconds=53717), 7, Decimal('352.41'), Decimal('2466.85'))\n",
      "(5, 4983775, 27901, datetime.date(2024, 1, 10), 2024, 'January', datetime.timedelta(seconds=60847), 2, Decimal('124.28'), Decimal('248.55'))\n",
      "(6, 6095326, 41289, datetime.date(2023, 9, 21), 2023, 'September', datetime.timedelta(seconds=84267), 4, Decimal('296.29'), Decimal('1185.17'))\n",
      "(7, 5434096, 97285, datetime.date(2023, 6, 26), 2023, 'June', datetime.timedelta(seconds=48951), 2, Decimal('315.06'), Decimal('630.12'))\n",
      "(8, 2344675, 26603, datetime.date(2023, 3, 24), 2023, 'March', datetime.timedelta(seconds=36776), 1, Decimal('46.59'), Decimal('46.59'))\n",
      "(9, 4155845, 80175, datetime.date(2024, 1, 6), 2024, 'January', datetime.timedelta(seconds=52706), 8, Decimal('328.84'), Decimal('2630.71'))\n",
      "(10, 4926148, 31878, datetime.date(2023, 10, 4), 2023, 'October', datetime.timedelta(seconds=80860), 10, Decimal('397.61'), Decimal('3976.11'))\n",
      "\n",
      "\n",
      "Executing query: SELECT * FROM transaction_logistics LIMIT 10;\n",
      "(8691788.0, 'Same-Day', 'Debit Card', 'Shipped')\n",
      "(2174773.0, 'Standard', 'Credit Card', 'Processing')\n",
      "(6679610.0, 'Same-Day', 'Credit Card', 'Processing')\n",
      "(7232460.0, 'Standard', 'PayPal', 'Processing')\n",
      "(4983775.0, 'Standard', 'Cash', 'Shipped')\n",
      "(6095326.0, 'Express', 'PayPal', 'Pending')\n",
      "(5434096.0, 'Standard', 'Cash', 'Processing')\n",
      "(2344675.0, 'Same-Day', 'Cash', 'Processing')\n",
      "(4155845.0, 'Same-Day', 'Cash', 'Delivered')\n",
      "(4926148.0, 'Standard', 'Cash', 'Delivered')\n",
      "\n",
      "\n",
      "Executing query: SELECT * FROM product_info LIMIT 10;\n",
      "(1, 'P000', 'Clothing', 'Nike', 'Shorts', 'Cycling shorts')\n",
      "(2, 'P001', 'Electronics', 'Samsung', 'Tablet', 'Lenovo Tab')\n",
      "(3, 'P002', 'Books', 'Penguin Books', \"Children's\", 'Sports equipment')\n",
      "(4, 'P003', 'Home Decor', 'Home Depot', 'Tools', 'Utility knife')\n",
      "(5, 'P004', 'Grocery', 'Nestle', 'Chocolate', 'Chocolate cookies')\n",
      "(6, 'P001', 'Electronics', 'Apple', 'Tablet', 'Lenovo Tab')\n",
      "(7, 'P005', 'Electronics', 'Samsung', 'Television', 'QLED TV')\n",
      "(8, 'P006', 'Clothing', 'Zara', 'Shirt', 'Dress shirt')\n",
      "(9, 'P007', 'Grocery', 'Nestle', 'Chocolate', 'Dark chocolate')\n",
      "(10, 'P008', 'Home Decor', 'Home Depot', 'Decorations', 'Candles')\n",
      "\n",
      "\n",
      "Executing query: SELECT * FROM feedback LIMIT 10;\n",
      "('P000', 'Excellent', 5.0)\n",
      "('P001', 'Excellent', 4.0)\n",
      "('P002', 'Average', 2.0)\n",
      "('P003', 'Excellent', 4.0)\n",
      "('P004', 'Bad', 1.0)\n",
      "('P001', 'Good', 4.0)\n",
      "('P005', 'Bad', 1.0)\n",
      "('P006', 'Bad', 1.0)\n",
      "('P007', 'Bad', 1.0)\n",
      "('P008', 'Excellent', 4.0)\n",
      "\n",
      "\n",
      "Executing query: \n",
      "    SELECT td.*, ci.Name, ci.Email\n",
      "    FROM transactions_details td\n",
      "    JOIN customer_info ci ON td.Customer_ID = ci.Customer_ID\n",
      "    LIMIT 10;\n",
      "    \n",
      "(1, 8691788, 37249, datetime.date(2023, 9, 18), 2023, 'September', datetime.timedelta(seconds=79435), 3, Decimal('108.03'), Decimal('324.09'), 'Michelle Harrington', 'Ebony39@gmail.com')\n",
      "(9627, 2322638, 37249, datetime.date(2023, 6, 14), 2023, 'June', datetime.timedelta(seconds=75795), 7, Decimal('75.87'), Decimal('531.12'), 'Michelle Harrington', 'Ebony39@gmail.com')\n",
      "(61482, 1814136, 37249, datetime.date(2024, 2, 6), 2024, 'February', datetime.timedelta(seconds=79011), 6, Decimal('379.38'), Decimal('2276.30'), 'Michelle Harrington', 'Ebony39@gmail.com')\n",
      "(99719, 4895457, 37249, datetime.date(2023, 12, 8), 2023, 'December', datetime.timedelta(seconds=50804), 4, Decimal('148.64'), Decimal('594.55'), 'Michelle Harrington', 'Ebony39@gmail.com')\n",
      "(204468, 5836653, 37249, datetime.date(2024, 1, 2), 2024, 'January', datetime.timedelta(seconds=45045), 8, Decimal('344.92'), Decimal('2759.33'), 'Michelle Harrington', 'Ebony39@gmail.com')\n",
      "(300750, 8691788, 37249, datetime.date(2023, 9, 18), 2023, 'September', datetime.timedelta(seconds=79435), 3, Decimal('108.03'), Decimal('324.09'), 'Michelle Harrington', 'Ebony39@gmail.com')\n",
      "(310376, 2322638, 37249, datetime.date(2023, 6, 14), 2023, 'June', datetime.timedelta(seconds=75795), 7, Decimal('75.87'), Decimal('531.12'), 'Michelle Harrington', 'Ebony39@gmail.com')\n",
      "(362231, 1814136, 37249, datetime.date(2024, 2, 6), 2024, 'February', datetime.timedelta(seconds=79011), 6, Decimal('379.38'), Decimal('2276.30'), 'Michelle Harrington', 'Ebony39@gmail.com')\n",
      "(400468, 4895457, 37249, datetime.date(2023, 12, 8), 2023, 'December', datetime.timedelta(seconds=50804), 4, Decimal('148.64'), Decimal('594.55'), 'Michelle Harrington', 'Ebony39@gmail.com')\n",
      "(505217, 5836653, 37249, datetime.date(2024, 1, 2), 2024, 'January', datetime.timedelta(seconds=45045), 8, Decimal('344.92'), Decimal('2759.33'), 'Michelle Harrington', 'Ebony39@gmail.com')\n",
      "\n",
      "\n",
      "Executing query: \n",
      "    SELECT tl.*, td.Date, td.Amount\n",
      "    FROM transaction_logistics tl\n",
      "    JOIN transactions_details td ON tl.Transaction_ID = td.Transaction_ID\n",
      "    LIMIT 10;\n",
      "    \n",
      "(8691788.0, 'Same-Day', 'Debit Card', 'Shipped', datetime.date(2023, 9, 18), Decimal('108.03'))\n",
      "(8691788.0, 'Same-Day', 'Debit Card', 'Shipped', datetime.date(2023, 12, 29), Decimal('147.38'))\n",
      "(8691788.0, 'Same-Day', 'Debit Card', 'Shipped', datetime.date(2023, 9, 18), Decimal('108.03'))\n",
      "(8691788.0, 'Same-Day', 'Debit Card', 'Shipped', datetime.date(2023, 12, 29), Decimal('147.38'))\n",
      "(2174773.0, 'Standard', 'Credit Card', 'Processing', datetime.date(2023, 12, 31), Decimal('403.35'))\n",
      "(2174773.0, 'Standard', 'Credit Card', 'Processing', datetime.date(2023, 12, 31), Decimal('403.35'))\n",
      "(6679610.0, 'Same-Day', 'Credit Card', 'Processing', datetime.date(2023, 4, 26), Decimal('354.48'))\n",
      "(6679610.0, 'Same-Day', 'Credit Card', 'Processing', datetime.date(2023, 4, 26), Decimal('354.48'))\n",
      "(7232460.0, 'Standard', 'PayPal', 'Processing', datetime.date(2023, 5, 8), Decimal('352.41'))\n",
      "(7232460.0, 'Standard', 'PayPal', 'Processing', datetime.date(2023, 5, 8), Decimal('352.41'))\n",
      "\n",
      "\n",
      "Executing query: \n",
      "    SELECT fb.*, pi.Product_Category, pi.Product_Brand\n",
      "    FROM feedback fb\n",
      "    JOIN product_info pi ON fb.Product_ID = pi.Product_ID\n",
      "    LIMIT 10;\n",
      "    \n",
      "('P000', 'Excellent', 5.0, 'Clothing', 'Nike')\n",
      "('P000', 'Excellent', 5.0, 'Clothing', 'Nike')\n",
      "('P000', 'Excellent', 5.0, 'Clothing', 'Nike')\n",
      "('P000', 'Excellent', 5.0, 'Clothing', 'Nike')\n",
      "('P000', 'Excellent', 5.0, 'Clothing', 'Nike')\n",
      "('P000', 'Excellent', 5.0, 'Clothing', 'Nike')\n",
      "('P000', 'Excellent', 5.0, 'Clothing', 'Nike')\n",
      "('P000', 'Excellent', 5.0, 'Clothing', 'Nike')\n",
      "('P000', 'Excellent', 5.0, 'Clothing', 'Nike')\n",
      "('P000', 'Excellent', 5.0, 'Clothing', 'Nike')\n",
      "\n",
      "\n",
      "Executing query: \n",
      "    SELECT fb.*, ci.Name, ci.Email\n",
      "    FROM feedback fb\n",
      "    JOIN customer_info ci ON fb.Customer_ID = ci.Customer_ID\n",
      "    LIMIT 10;\n",
      "    \n",
      "Error executing query: \n",
      "    SELECT fb.*, ci.Name, ci.Email\n",
      "    FROM feedback fb\n",
      "    JOIN customer_info ci ON fb.Customer_ID = ci.Customer_ID\n",
      "    LIMIT 10;\n",
      "    \n",
      "(pymysql.err.OperationalError) (1054, \"Unknown column 'fb.Customer_ID' in 'on clause'\")\n",
      "[SQL: \n",
      "    SELECT fb.*, ci.Name, ci.Email\n",
      "    FROM feedback fb\n",
      "    JOIN customer_info ci ON fb.Customer_ID = ci.Customer_ID\n",
      "    LIMIT 10;\n",
      "    ]\n",
      "(Background on this error at: https://sqlalche.me/e/20/e3q8)\n",
      "\n",
      "\n"
     ]
    }
   ],
   "source": [
    "from sqlalchemy import create_engine, text\n",
    "# Function to execute SQL queries and print results\n",
    "def execute_query(engine, query):\n",
    "    with engine.connect() as conn:\n",
    "        result = conn.execute(text(query))\n",
    "        for row in result:\n",
    "            print(row)\n",
    "\n",
    "# List of verification queries\n",
    "queries = [\n",
    "    \"SHOW TABLES IN retail_database;\",\n",
    "    \"SELECT * FROM customer_info LIMIT 10;\",\n",
    "    \"SELECT * FROM transactions_details LIMIT 10;\",\n",
    "    \"SELECT * FROM transaction_logistics LIMIT 10;\",\n",
    "    \"SELECT * FROM product_info LIMIT 10;\",\n",
    "    \"SELECT * FROM feedback LIMIT 10;\",\n",
    "    \"\"\"\n",
    "    SELECT td.*, ci.Name, ci.Email\n",
    "    FROM transactions_details td\n",
    "    JOIN customer_info ci ON td.Customer_ID = ci.Customer_ID\n",
    "    LIMIT 10;\n",
    "    \"\"\",\n",
    "    \"\"\"\n",
    "    SELECT tl.*, td.Date, td.Amount\n",
    "    FROM transaction_logistics tl\n",
    "    JOIN transactions_details td ON tl.Transaction_ID = td.Transaction_ID\n",
    "    LIMIT 10;\n",
    "    \"\"\",\n",
    "    \"\"\"\n",
    "    SELECT fb.*, pi.Product_Category, pi.Product_Brand\n",
    "    FROM feedback fb\n",
    "    JOIN product_info pi ON fb.Product_ID = pi.Product_ID\n",
    "    LIMIT 10;\n",
    "    \"\"\",\n",
    "    \"\"\"\n",
    "    SELECT fb.*, ci.Name, ci.Email\n",
    "    FROM feedback fb\n",
    "    JOIN customer_info ci ON fb.Customer_ID = ci.Customer_ID\n",
    "    LIMIT 10;\n",
    "    \"\"\"\n",
    "]\n",
    "\n",
    "# Execute and print results for each query\n",
    "for query in queries:\n",
    "    try:\n",
    "        print(f\"Executing query: {query}\")\n",
    "        execute_query(engine, query)\n",
    "        print(\"\\n\")\n",
    "    except Exception as e:\n",
    "        print(f\"Error executing query: {query}\")\n",
    "        print(e)\n",
    "        print(\"\\n\")\n"
   ]
  },
  {
   "cell_type": "code",
   "execution_count": null,
   "metadata": {},
   "outputs": [],
   "source": []
  }
 ],
 "metadata": {
  "kernelspec": {
   "display_name": "ads502",
   "language": "python",
   "name": "python3"
  },
  "language_info": {
   "codemirror_mode": {
    "name": "ipython",
    "version": 3
   },
   "file_extension": ".py",
   "mimetype": "text/x-python",
   "name": "python",
   "nbconvert_exporter": "python",
   "pygments_lexer": "ipython3",
   "version": "3.8.16"
  }
 },
 "nbformat": 4,
 "nbformat_minor": 2
}
