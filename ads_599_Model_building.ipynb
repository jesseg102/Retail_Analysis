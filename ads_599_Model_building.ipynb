{
  "cells": [
    {
      "cell_type": "markdown",
      "metadata": {
        "id": "view-in-github",
        "colab_type": "text"
      },
      "source": [
        "<a href=\"https://colab.research.google.com/github/jesseg102/Retail_Analysis/blob/Sultan-Branch/ads_599_Model_building.ipynb\" target=\"_parent\"><img src=\"https://colab.research.google.com/assets/colab-badge.svg\" alt=\"Open In Colab\"/></a>"
      ]
    },
    {
      "cell_type": "code",
      "execution_count": 1,
      "metadata": {
        "id": "YkdOqDjdhJ3d"
      },
      "outputs": [],
      "source": [
        "import numpy as np\n",
        "\n",
        "import pandas as pd\n",
        "\n",
        "#import pymysql as mysql\n",
        "import matplotlib.pyplot as plt\n",
        "import pandas as pd\n",
        "from sklearn.preprocessing import StandardScaler, LabelEncoder\n",
        "import pandas as pd\n",
        "import numpy as np\n",
        "from sklearn.ensemble import RandomForestClassifier\n",
        "from sklearn.metrics import precision_score, recall_score, f1_score, accuracy_score\n",
        "from sklearn.model_selection import KFold, train_test_split, GridSearchCV\n",
        "from sklearn.preprocessing import StandardScaler, LabelEncoder\n",
        "from sklearn.feature_selection import RFE\n",
        "import matplotlib.pyplot as plt\n",
        "import joblib\n",
        "\n",
        "from sqlalchemy import create_engine"
      ]
    },
    {
      "cell_type": "code",
      "source": [
        "!pip install scikit-learn==1.2.2\n"
      ],
      "metadata": {
        "id": "9xjS0slUwAOA",
        "outputId": "62374cd6-8a92-4075-8be0-125fef4678b9",
        "colab": {
          "base_uri": "https://localhost:8080/"
        }
      },
      "execution_count": 2,
      "outputs": [
        {
          "output_type": "stream",
          "name": "stdout",
          "text": [
            "Requirement already satisfied: scikit-learn==1.2.2 in /usr/local/lib/python3.10/dist-packages (1.2.2)\n",
            "Requirement already satisfied: numpy>=1.17.3 in /usr/local/lib/python3.10/dist-packages (from scikit-learn==1.2.2) (1.25.2)\n",
            "Requirement already satisfied: scipy>=1.3.2 in /usr/local/lib/python3.10/dist-packages (from scikit-learn==1.2.2) (1.13.1)\n",
            "Requirement already satisfied: joblib>=1.1.1 in /usr/local/lib/python3.10/dist-packages (from scikit-learn==1.2.2) (1.4.2)\n",
            "Requirement already satisfied: threadpoolctl>=2.0.0 in /usr/local/lib/python3.10/dist-packages (from scikit-learn==1.2.2) (3.5.0)\n"
          ]
        }
      ]
    },
    {
      "cell_type": "code",
      "execution_count": null,
      "metadata": {
        "colab": {
          "base_uri": "https://localhost:8080/"
        },
        "id": "ut1Sr0lVkVMg",
        "outputId": "a8f4f9bd-417e-499a-edcd-72ac63025b61"
      },
      "outputs": [
        {
          "name": "stdout",
          "output_type": "stream",
          "text": [
            "Requirement already satisfied: torch in /usr/local/lib/python3.10/dist-packages (2.3.1+cu121)\n",
            "Requirement already satisfied: torchvision in /usr/local/lib/python3.10/dist-packages (0.18.1+cu121)\n",
            "Requirement already satisfied: filelock in /usr/local/lib/python3.10/dist-packages (from torch) (3.15.4)\n",
            "Requirement already satisfied: typing-extensions>=4.8.0 in /usr/local/lib/python3.10/dist-packages (from torch) (4.12.2)\n",
            "Requirement already satisfied: sympy in /usr/local/lib/python3.10/dist-packages (from torch) (1.13.1)\n",
            "Requirement already satisfied: networkx in /usr/local/lib/python3.10/dist-packages (from torch) (3.3)\n",
            "Requirement already satisfied: jinja2 in /usr/local/lib/python3.10/dist-packages (from torch) (3.1.4)\n",
            "Requirement already satisfied: fsspec in /usr/local/lib/python3.10/dist-packages (from torch) (2024.6.1)\n",
            "Collecting nvidia-cuda-nvrtc-cu12==12.1.105 (from torch)\n",
            "  Using cached nvidia_cuda_nvrtc_cu12-12.1.105-py3-none-manylinux1_x86_64.whl.metadata (1.5 kB)\n",
            "Collecting nvidia-cuda-runtime-cu12==12.1.105 (from torch)\n",
            "  Using cached nvidia_cuda_runtime_cu12-12.1.105-py3-none-manylinux1_x86_64.whl.metadata (1.5 kB)\n",
            "Collecting nvidia-cuda-cupti-cu12==12.1.105 (from torch)\n",
            "  Using cached nvidia_cuda_cupti_cu12-12.1.105-py3-none-manylinux1_x86_64.whl.metadata (1.6 kB)\n",
            "Collecting nvidia-cudnn-cu12==8.9.2.26 (from torch)\n",
            "  Using cached nvidia_cudnn_cu12-8.9.2.26-py3-none-manylinux1_x86_64.whl.metadata (1.6 kB)\n",
            "Collecting nvidia-cublas-cu12==12.1.3.1 (from torch)\n",
            "  Using cached nvidia_cublas_cu12-12.1.3.1-py3-none-manylinux1_x86_64.whl.metadata (1.5 kB)\n",
            "Collecting nvidia-cufft-cu12==11.0.2.54 (from torch)\n",
            "  Using cached nvidia_cufft_cu12-11.0.2.54-py3-none-manylinux1_x86_64.whl.metadata (1.5 kB)\n",
            "Collecting nvidia-curand-cu12==10.3.2.106 (from torch)\n",
            "  Using cached nvidia_curand_cu12-10.3.2.106-py3-none-manylinux1_x86_64.whl.metadata (1.5 kB)\n",
            "Collecting nvidia-cusolver-cu12==11.4.5.107 (from torch)\n",
            "  Using cached nvidia_cusolver_cu12-11.4.5.107-py3-none-manylinux1_x86_64.whl.metadata (1.6 kB)\n",
            "Collecting nvidia-cusparse-cu12==12.1.0.106 (from torch)\n",
            "  Using cached nvidia_cusparse_cu12-12.1.0.106-py3-none-manylinux1_x86_64.whl.metadata (1.6 kB)\n",
            "Collecting nvidia-nccl-cu12==2.20.5 (from torch)\n",
            "  Using cached nvidia_nccl_cu12-2.20.5-py3-none-manylinux2014_x86_64.whl.metadata (1.8 kB)\n",
            "Collecting nvidia-nvtx-cu12==12.1.105 (from torch)\n",
            "  Using cached nvidia_nvtx_cu12-12.1.105-py3-none-manylinux1_x86_64.whl.metadata (1.7 kB)\n",
            "Requirement already satisfied: triton==2.3.1 in /usr/local/lib/python3.10/dist-packages (from torch) (2.3.1)\n",
            "Collecting nvidia-nvjitlink-cu12 (from nvidia-cusolver-cu12==11.4.5.107->torch)\n",
            "  Downloading nvidia_nvjitlink_cu12-12.5.82-py3-none-manylinux2014_x86_64.whl.metadata (1.5 kB)\n",
            "Requirement already satisfied: numpy in /usr/local/lib/python3.10/dist-packages (from torchvision) (1.25.2)\n",
            "Requirement already satisfied: pillow!=8.3.*,>=5.3.0 in /usr/local/lib/python3.10/dist-packages (from torchvision) (9.4.0)\n",
            "Requirement already satisfied: MarkupSafe>=2.0 in /usr/local/lib/python3.10/dist-packages (from jinja2->torch) (2.1.5)\n",
            "Requirement already satisfied: mpmath<1.4,>=1.1.0 in /usr/local/lib/python3.10/dist-packages (from sympy->torch) (1.3.0)\n",
            "Using cached nvidia_cublas_cu12-12.1.3.1-py3-none-manylinux1_x86_64.whl (410.6 MB)\n",
            "Using cached nvidia_cuda_cupti_cu12-12.1.105-py3-none-manylinux1_x86_64.whl (14.1 MB)\n",
            "Using cached nvidia_cuda_nvrtc_cu12-12.1.105-py3-none-manylinux1_x86_64.whl (23.7 MB)\n",
            "Using cached nvidia_cuda_runtime_cu12-12.1.105-py3-none-manylinux1_x86_64.whl (823 kB)\n",
            "Using cached nvidia_cudnn_cu12-8.9.2.26-py3-none-manylinux1_x86_64.whl (731.7 MB)\n",
            "Using cached nvidia_cufft_cu12-11.0.2.54-py3-none-manylinux1_x86_64.whl (121.6 MB)\n",
            "Using cached nvidia_curand_cu12-10.3.2.106-py3-none-manylinux1_x86_64.whl (56.5 MB)\n",
            "Using cached nvidia_cusolver_cu12-11.4.5.107-py3-none-manylinux1_x86_64.whl (124.2 MB)\n",
            "Using cached nvidia_cusparse_cu12-12.1.0.106-py3-none-manylinux1_x86_64.whl (196.0 MB)\n",
            "Using cached nvidia_nccl_cu12-2.20.5-py3-none-manylinux2014_x86_64.whl (176.2 MB)\n",
            "Using cached nvidia_nvtx_cu12-12.1.105-py3-none-manylinux1_x86_64.whl (99 kB)\n",
            "Downloading nvidia_nvjitlink_cu12-12.5.82-py3-none-manylinux2014_x86_64.whl (21.3 MB)\n",
            "\u001b[2K   \u001b[90m━━━━━━━━━━━━━━━━━━━━━━━━━━━━━━━━━━━━━━━━\u001b[0m \u001b[32m21.3/21.3 MB\u001b[0m \u001b[31m28.3 MB/s\u001b[0m eta \u001b[36m0:00:00\u001b[0m\n",
            "\u001b[?25hInstalling collected packages: nvidia-nvtx-cu12, nvidia-nvjitlink-cu12, nvidia-nccl-cu12, nvidia-curand-cu12, nvidia-cufft-cu12, nvidia-cuda-runtime-cu12, nvidia-cuda-nvrtc-cu12, nvidia-cuda-cupti-cu12, nvidia-cublas-cu12, nvidia-cusparse-cu12, nvidia-cudnn-cu12, nvidia-cusolver-cu12\n",
            "Successfully installed nvidia-cublas-cu12-12.1.3.1 nvidia-cuda-cupti-cu12-12.1.105 nvidia-cuda-nvrtc-cu12-12.1.105 nvidia-cuda-runtime-cu12-12.1.105 nvidia-cudnn-cu12-8.9.2.26 nvidia-cufft-cu12-11.0.2.54 nvidia-curand-cu12-10.3.2.106 nvidia-cusolver-cu12-11.4.5.107 nvidia-cusparse-cu12-12.1.0.106 nvidia-nccl-cu12-2.20.5 nvidia-nvjitlink-cu12-12.5.82 nvidia-nvtx-cu12-12.1.105\n"
          ]
        }
      ],
      "source": [
        "!pip install torch torchvision\n"
      ]
    },
    {
      "cell_type": "code",
      "execution_count": 3,
      "metadata": {
        "colab": {
          "base_uri": "https://localhost:8080/"
        },
        "id": "iSanwh_-6WVH",
        "outputId": "93ff356f-e093-446c-b58f-ade0a4cb94d7"
      },
      "outputs": [
        {
          "output_type": "stream",
          "name": "stdout",
          "text": [
            "Drive already mounted at /content/drive; to attempt to forcibly remount, call drive.mount(\"/content/drive\", force_remount=True).\n"
          ]
        }
      ],
      "source": [
        "# connect with google drive\n",
        "from google.colab import drive\n",
        "drive.mount('/content/drive')"
      ]
    },
    {
      "cell_type": "code",
      "execution_count": 4,
      "metadata": {
        "id": "qQBuxjxG6xsk"
      },
      "outputs": [],
      "source": [
        "import pandas as pd\n",
        "import numpy as np\n",
        "import matplotlib.pyplot as plt\n",
        "import seaborn as sns\n",
        "from sklearn.preprocessing import StandardScaler, LabelEncoder"
      ]
    },
    {
      "cell_type": "code",
      "execution_count": 5,
      "metadata": {
        "id": "MBdV8a2U6zyK"
      },
      "outputs": [],
      "source": [
        "#\n",
        "retail_data_clean = pd.read_csv('/content/drive/MyDrive/Colab_Notebooks/retail_data_clean.csv')\n",
        "transactions_details = pd.read_csv('/content/drive/MyDrive/Colab_Notebooks/transaction_details.csv')\n",
        "transactions_logistics = pd.read_csv('/content/drive/MyDrive/Colab_Notebooks/transaction_logistics.csv')\n",
        "product_info = pd.read_csv('/content/drive/MyDrive/Colab_Notebooks/product_info.csv')\n",
        "customer_info = pd.read_csv('/content/drive/MyDrive/Colab_Notebooks/customer_info.csv')\n",
        "feedback = pd.read_csv('/content/drive/MyDrive/Colab_Notebooks/feedback.csv')\n",
        "champion_data = pd.read_csv('/content/drive/MyDrive/Colab_Notebooks/data/Champion_classifer_detection.csv')\n",
        "classifer_detection = pd.read_csv('/content/drive/MyDrive/Colab_Notebooks/data/classifer_detection.csv')"
      ]
    },
    {
      "cell_type": "code",
      "execution_count": null,
      "metadata": {
        "colab": {
          "base_uri": "https://localhost:8080/"
        },
        "id": "CXSgQ6NRCAI7",
        "outputId": "4aedef00-8a41-4bd0-9c28-7a6204511736"
      },
      "outputs": [
        {
          "data": {
            "text/plain": [
              "RFM_Segment\n",
              "Champions              91293\n",
              "Potential Loyalists    77391\n",
              "Loyal Customers        52683\n",
              "At-Risk                27676\n",
              "Hibernating            21031\n",
              "Others                 19295\n",
              "Big Spenders           11380\n",
              "Name: count, dtype: int64"
            ]
          },
          "execution_count": 5,
          "metadata": {},
          "output_type": "execute_result"
        }
      ],
      "source": [
        "df_labeled = classifer_detection.copy()\n",
        "df_labeled.shape\n",
        "scaler = StandardScaler()\n",
        "numerical_features = df_labeled.select_dtypes(include=['float64', 'int64']).columns\n",
        "df_labeled[numerical_features] = scaler.fit_transform(df_labeled[numerical_features])\n",
        "\n",
        "df_labeled['RFM_Segment'].value_counts()"
      ]
    },
    {
      "cell_type": "code",
      "execution_count": 6,
      "metadata": {
        "id": "VVxNnVCOpeqr"
      },
      "outputs": [],
      "source": [
        "df_labeled = classifer_detection.copy()\n",
        "df_labeled.shape\n",
        "scaler = StandardScaler()\n",
        "numerical_features = df_labeled.select_dtypes(include=['float64', 'int64']).columns\n",
        "df_labeled[numerical_features] = scaler.fit_transform(df_labeled[numerical_features])\n",
        "\n",
        "le = LabelEncoder()\n",
        "\n",
        "df_labeled['RFM_Segment'] = le.fit_transform(df_labeled['RFM_Segment'])\n",
        "df_labeled[\"CLV_Segment\"] = le.fit_transform(df_labeled[\"CLV_Segment\"])\n",
        "df_labeled[\"Feedback\"] = le.fit_transform(df_labeled[\"Feedback\"])\n",
        "df_labeled[\"Segment\"] = le.fit_transform(df_labeled[\"Segment\"])\n",
        "\n",
        "# One-hot encode the 'products' column\n",
        "df_products = pd.get_dummies(df_labeled['products'], prefix='product')\n",
        "\n",
        "# Drop original 'products' column from df_labeled\n",
        "df_labeled.drop(['products', 'Date', 'Time', 'Month'], axis=1, inplace=True)\n",
        "\n",
        "# Merge the one-hot encoded product columns back to df_labeled\n",
        "df_labeled = pd.concat([df_labeled, df_products], axis=1)\n",
        "\n",
        "# Define features (X) and target (y)\n",
        "X = df_labeled.drop(['RFM_Segment'], axis=1)\n",
        "y = df_labeled['RFM_Segment']\n"
      ]
    },
    {
      "cell_type": "code",
      "execution_count": 8,
      "metadata": {
        "colab": {
          "base_uri": "https://localhost:8080/"
        },
        "id": "W9huXGIFoQfO",
        "outputId": "2ca99d5d-d0ab-4713-ef9b-91cf9f53ce04"
      },
      "outputs": [
        {
          "output_type": "stream",
          "name": "stdout",
          "text": [
            "No categorical columns found.\n"
          ]
        }
      ],
      "source": [
        "categorical_cols = X.select_dtypes(include=['object']).columns\n",
        "\n",
        "if len(categorical_cols) > 0:\n",
        "    print(f\"Categorical columns found: {categorical_cols.tolist()}\")\n",
        "    # Step 2: Encode categorical columns\n",
        "    X = pd.get_dummies(X, columns=categorical_cols, drop_first=True)\n",
        "    print(f\"Shape of X after encoding: {X.shape}\")\n",
        "else:\n",
        "    print(\"No categorical columns found.\")"
      ]
    },
    {
      "cell_type": "markdown",
      "source": [
        "### Random Forest"
      ],
      "metadata": {
        "id": "_o2JL8200We9"
      }
    },
    {
      "cell_type": "code",
      "execution_count": null,
      "metadata": {
        "colab": {
          "base_uri": "https://localhost:8080/"
        },
        "id": "7QOwwwhb6oT1",
        "outputId": "02906145-f223-49d4-ce52-9eaf96acc4b0"
      },
      "outputs": [
        {
          "name": "stdout",
          "output_type": "stream",
          "text": [
            "Fitting 5 folds for each of 216 candidates, totalling 1080 fits\n"
          ]
        },
        {
          "name": "stderr",
          "output_type": "stream",
          "text": [
            "/usr/local/lib/python3.10/dist-packages/joblib/externals/loky/process_executor.py:752: UserWarning: A worker stopped while some jobs were given to the executor. This can be caused by a too short worker timeout or by a memory leak.\n",
            "  warnings.warn(\n"
          ]
        },
        {
          "name": "stdout",
          "output_type": "stream",
          "text": [
            "Best parameters: {'bootstrap': False, 'max_depth': None, 'min_samples_leaf': 1, 'min_samples_split': 5, 'n_estimators': 300}\n",
            "Selected features: ['Total_Purchases_count' 'Total_Amount_sum' 'Total_Purchases_sum' 'Year'\n",
            " 'Total_Amount_mean' 'CLV' 'Customer_ID' 'Quarter' 'Total_Purchases_mean'\n",
            " 'Unnamed: 0' 'Total_Amount' 'Amount' 'Age_Total_Amount' 'Transaction_ID'\n",
            " 'Day' 'Hour' 'Age' 'Total_Purchases' 'Weekday' 'CLV_Segment' 'Ratings'\n",
            " 'Feedback' 'Segment' 'Gender_Male' 'Shipping_Method_Same-Day'\n",
            " 'Shipping_Method_Standard' 'Customer_Segment_Regular'\n",
            " 'Payment_Method_Credit Card' 'Payment_Method_Debit Card' 'Income_Medium'\n",
            " 'Payment_Method_PayPal' 'Income_Low' 'Order_Status_Shipped'\n",
            " 'Order_Status_Processing' 'Customer_Segment_Premium'\n",
            " 'Order_Status_Pending' 'Country_USA' 'Product_Category_Electronics'\n",
            " 'Product_Category_Grocery' 'Product_Category_Clothing'\n",
            " 'Product_Category_Home Decor' 'Country_UK' 'State_New South Wales'\n",
            " 'State_England' 'State_Berlin' 'Country_Germany' 'State_Ontario'\n",
            " 'Country_Canada' 'Product_Brand_Pepsi' 'Product_Brand_Random House'\n",
            " 'Product_Type_Non-Fiction' 'Product_Brand_HarperCollins'\n",
            " 'Product_Type_Fiction' 'Product_Brand_Penguin Books' 'Product_Type_Water'\n",
            " 'Product_Type_Smartphone' 'Product_Brand_Coca-Cola'\n",
            " 'Product_Brand_Samsung' 'Product_Brand_Sony' 'Product_Brand_Apple'\n",
            " 'Product_Brand_Nike' 'Product_Brand_Bed Bath & Beyond'\n",
            " 'Product_Brand_Home Depot' 'Product_Brand_IKEA' 'Product_Brand_Zara'\n",
            " 'Product_Brand_Nestle' 'State_Connecticut' 'City_Chicago'\n",
            " 'City_Portsmouth' 'Product_Type_T-shirt' 'Product_Type_Shoes'\n",
            " 'Product_Type_Soft Drink' 'Product_Type_Juice' 'Product_Type_Television'\n",
            " 'Product_Type_Tablet' 'Product_Type_Decorations' 'Product_Type_Furniture'\n",
            " 'State_Maine' 'City_San Francisco' 'City_Frankfurt' 'State_Georgia'\n",
            " 'City_Boston' 'Product_Type_Jacket' \"Product_Type_Children's\"\n",
            " 'Product_Type_Thriller' 'Product_Type_Jeans' 'Product_Type_Literature'\n",
            " 'Product_Type_Coffee' 'Product_Type_Dress' 'Product_Type_Kitchen'\n",
            " 'Product_Type_Laptop' 'Product_Type_Bedding' 'Product_Type_Headphones'\n",
            " 'Product_Type_Chocolate' 'Product_Type_Shirt' 'Product_Type_Tools'\n",
            " 'Product_Type_Shorts' 'Product_Type_Lighting' 'Product_Type_Snacks'\n",
            " 'Product_Brand_Mitsubhisi']\n",
            "Average Precision Random Forest: 0.69\n",
            "Average Recall Random Forest: 0.68\n",
            "Average F1 Score Random Forest: 0.67\n",
            "Average Accuracy Random Forest: 0.68\n",
            "Test Precision Random Forest: 0.70\n",
            "Test Recall Random Forest: 0.69\n",
            "Test F1 Score Random Forest: 0.67\n",
            "Test Accuracy Random Forest: 0.69\n"
          ]
        },
        {
          "data": {
            "text/plain": [
              "['/content/drive/MyDrive/Colab_Notebooks/data/Random_Forest_Hyper_Tuned.pkl']"
            ]
          },
          "execution_count": 7,
          "metadata": {},
          "output_type": "execute_result"
        }
      ],
      "source": [
        "\n",
        "import joblib\n",
        "\n",
        "\n",
        "# Split data into training and testing sets\n",
        "X_train, X_test, y_train, y_test = train_test_split(X, y, test_size=0.2, random_state=42)\n",
        "\n",
        "# Standardize the data\n",
        "scaler = StandardScaler()\n",
        "X_train = scaler.fit_transform(X_train)\n",
        "X_test = scaler.transform(X_test)\n",
        "\n",
        "# Define the Random Forest model\n",
        "rf = RandomForestClassifier(random_state=42)\n",
        "\n",
        "# Define the parameter grid for hyperparameter tuning\n",
        "param_grid = {\n",
        "    'n_estimators': [100, 200, 300],\n",
        "    'max_depth': [10, 20, 30, None],\n",
        "    'min_samples_split': [2, 5, 10],\n",
        "    'min_samples_leaf': [1, 2, 4],\n",
        "    'bootstrap': [True, False]\n",
        "}\n",
        "\n",
        "# Define GridSearchCV for hyperparameter tuning\n",
        "grid_search = GridSearchCV(estimator=rf, param_grid=param_grid, cv=5, scoring='accuracy', n_jobs=-1, verbose=2)\n",
        "\n",
        "# Fit GridSearchCV\n",
        "grid_search.fit(X_train, y_train)\n",
        "\n",
        "# Get the best parameters\n",
        "best_params = grid_search.best_params_\n",
        "print(f'Best parameters: {best_params}')\n",
        "\n",
        "# Train the Random Forest model with the best parameters\n",
        "rf_best = RandomForestClassifier(**best_params, random_state=42)\n",
        "rf_best.fit(X_train, y_train)\n",
        "\n",
        "# Get feature importances\n",
        "importances = rf_best.feature_importances_\n",
        "\n",
        "# Sort feature importances in descending order and select top features\n",
        "indices = np.argsort(importances)[::-1]\n",
        "selected_features = indices[:100]  # Select top 100 features\n",
        "\n",
        "# Transform the data to select only important features\n",
        "X_train_selected = X_train[:, selected_features]\n",
        "X_test_selected = X_test[:, selected_features]\n",
        "\n",
        "# Check selected features\n",
        "selected_features_names = np.array(X.columns)[selected_features]\n",
        "print(f'Selected features: {selected_features_names}')\n",
        "\n",
        "# Define k-fold cross-validation\n",
        "kf = KFold(n_splits=5, shuffle=True, random_state=42)\n",
        "\n",
        "# Initialize lists to store evaluation metrics\n",
        "precision_scores = []\n",
        "recall_scores = []\n",
        "f1_scores = []\n",
        "accuracy_scores = []\n",
        "\n",
        "# Perform k-fold cross-validation\n",
        "for train_index, val_index in kf.split(X_train_selected):\n",
        "    X_ktrain, X_val = X_train_selected[train_index], X_train_selected[val_index]\n",
        "    y_ktrain, y_val = y_train.iloc[train_index], y_train.iloc[val_index]\n",
        "\n",
        "    # Train the model\n",
        "    rf_best.fit(X_ktrain, y_ktrain)\n",
        "\n",
        "    # Make predictions\n",
        "    y_val_pred = rf_best.predict(X_val)\n",
        "\n",
        "    # Evaluate the model\n",
        "    precision = precision_score(y_val, y_val_pred, average='weighted')\n",
        "    recall = recall_score(y_val, y_val_pred, average='weighted')\n",
        "    f1 = f1_score(y_val, y_val_pred, average='weighted')\n",
        "    accuracy = accuracy_score(y_val, y_val_pred)\n",
        "\n",
        "    precision_scores.append(precision)\n",
        "    recall_scores.append(recall)\n",
        "    f1_scores.append(f1)\n",
        "    accuracy_scores.append(accuracy)\n",
        "\n",
        "# Calculate average metrics\n",
        "avg_precision_rf = np.mean(precision_scores)\n",
        "avg_recall_rf = np.mean(recall_scores)\n",
        "avg_f1_rf = np.mean(f1_scores)\n",
        "avg_accuracy_rf = np.mean(accuracy_scores)\n",
        "\n",
        "print(f'Average Precision Random Forest: {avg_precision_rf:.2f}')\n",
        "print(f'Average Recall Random Forest: {avg_recall_rf:.2f}')\n",
        "print(f'Average F1 Score Random Forest: {avg_f1_rf:.2f}')\n",
        "print(f'Average Accuracy Random Forest: {avg_accuracy_rf:.2f}')\n",
        "\n",
        "# Train the model on the entire training data\n",
        "rf_best.fit(X_train_selected, y_train)\n",
        "\n",
        "# Make predictions on the test data\n",
        "y_test_pred = rf_best.predict(X_test_selected)\n",
        "\n",
        "# Evaluate the model on the test data\n",
        "test_precision_rf = precision_score(y_test, y_test_pred, average='weighted')\n",
        "test_recall_rf = recall_score(y_test, y_test_pred, average='weighted')\n",
        "test_f1_rf = f1_score(y_test, y_test_pred, average='weighted')\n",
        "test_accuracy_rf = accuracy_score(y_test, y_test_pred)\n",
        "\n",
        "print(f'Test Precision Random Forest: {test_precision_rf:.2f}')\n",
        "print(f'Test Recall Random Forest: {test_recall_rf:.2f}')\n",
        "print(f'Test F1 Score Random Forest: {test_f1_rf:.2f}')\n",
        "print(f'Test Accuracy Random Forest: {test_accuracy_rf:.2f}')\n",
        "\n",
        "# Save the model\n",
        "joblib.dump(rf_best, '/content/drive/MyDrive/Colab_Notebooks/data/Random_Forest_Hyper_Tuned.pkl')\n"
      ]
    },
    {
      "cell_type": "markdown",
      "source": [
        "### Decision Tree"
      ],
      "metadata": {
        "id": "KLoAswEV0d8S"
      }
    },
    {
      "cell_type": "code",
      "execution_count": null,
      "metadata": {
        "colab": {
          "base_uri": "https://localhost:8080/",
          "height": 897
        },
        "id": "QoqmJGU-549v",
        "outputId": "b9a67e78-92b9-4051-c3d2-5b2aff1e4205"
      },
      "outputs": [
        {
          "name": "stdout",
          "output_type": "stream",
          "text": [
            "Fitting 5 folds for each of 90 candidates, totalling 450 fits\n",
            "Best parameters: {'criterion': 'entropy', 'max_depth': None, 'min_samples_leaf': 1, 'min_samples_split': 2}\n",
            "Average Precision Decision Tree: 0.74\n",
            "Average Recall Decision Tree: 0.74\n",
            "Average F1 Score Decision Tree: 0.74\n",
            "Average Accuracy Decision Tree: 0.74\n",
            "Test Precision Decision Tree: 0.79\n",
            "Test Recall Decision Tree: 0.79\n",
            "Test F1 Score Decision Tree: 0.79\n",
            "Test Accuracy Decision Tree: 0.79\n"
          ]
        },
        {
          "data": {
            "image/png": "[encoded data removed]",
            "text/plain": [
              "<Figure size 1000x800 with 2 Axes>"
            ]
          },
          "metadata": {},
          "output_type": "display_data"
        }
      ],
      "source": [
        "\n",
        "from sklearn.tree import DecisionTreeClassifier\n",
        "from sklearn.metrics import precision_score, recall_score, f1_score, accuracy_score, confusion_matrix\n",
        "import seaborn as sns\n",
        "import matplotlib.pyplot as plt\n",
        "\n",
        "\n",
        "\n",
        "# Assuming X and y are already defined\n",
        "# Split data into training and testing sets\n",
        "X_train, X_test, y_train, y_test = train_test_split(X, y, test_size=0.2, random_state=42)\n",
        "\n",
        "# Standardize the data\n",
        "scaler = StandardScaler()\n",
        "X_train = scaler.fit_transform(X_train)\n",
        "X_test = scaler.transform(X_test)\n",
        "\n",
        "# Define the Decision Tree model\n",
        "dt = DecisionTreeClassifier(random_state=42)\n",
        "\n",
        "# Define the parameter grid for hyperparameter tuning\n",
        "param_grid = {\n",
        "    'max_depth': [3, 5, 7, 10, None],\n",
        "    'min_samples_split': [2, 5, 10],\n",
        "    'min_samples_leaf': [1, 2, 5],\n",
        "    'criterion': ['gini', 'entropy']\n",
        "}\n",
        "\n",
        "# Define GridSearchCV for hyperparameter tuning\n",
        "grid_search = GridSearchCV(estimator=dt, param_grid=param_grid, cv=5, scoring='accuracy', n_jobs=-1, verbose=2)\n",
        "\n",
        "# Fit GridSearchCV\n",
        "grid_search.fit(X_train, y_train)\n",
        "\n",
        "# Get the best parameters\n",
        "best_params = grid_search.best_params_\n",
        "print(f'Best parameters: {best_params}')\n",
        "\n",
        "# Train the Decision Tree model with the best parameters\n",
        "dt_best = DecisionTreeClassifier(**best_params, random_state=42)\n",
        "dt_best.fit(X_train, y_train)\n",
        "\n",
        "# Define k-fold cross-validation\n",
        "kf = KFold(n_splits=5, shuffle=True, random_state=42)\n",
        "\n",
        "# Initialize lists to store evaluation metrics\n",
        "precision_scores = []\n",
        "recall_scores = []\n",
        "f1_scores = []\n",
        "accuracy_scores = []\n",
        "\n",
        "# Perform k-fold cross-validation\n",
        "for train_index, val_index in kf.split(X_train):\n",
        "    X_ktrain, X_val = X_train[train_index], X_train[val_index]\n",
        "    y_ktrain, y_val = y_train.iloc[train_index], y_train.iloc[val_index]\n",
        "\n",
        "    # Train the model\n",
        "    dt_best.fit(X_ktrain, y_ktrain)\n",
        "\n",
        "    # Make predictions\n",
        "    y_val_pred = dt_best.predict(X_val)\n",
        "\n",
        "    # Evaluate the model\n",
        "    precision = precision_score(y_val, y_val_pred, average='weighted')\n",
        "    recall = recall_score(y_val, y_val_pred, average='weighted')\n",
        "    f1 = f1_score(y_val, y_val_pred, average='weighted')\n",
        "    accuracy = accuracy_score(y_val, y_val_pred)\n",
        "\n",
        "    precision_scores.append(precision)\n",
        "    recall_scores.append(recall)\n",
        "    f1_scores.append(f1)\n",
        "    accuracy_scores.append(accuracy)\n",
        "\n",
        "# Calculate average metrics\n",
        "avg_precision_dt = np.mean(precision_scores)\n",
        "avg_recall_dt = np.mean(recall_scores)\n",
        "avg_f1_dt = np.mean(f1_scores)\n",
        "avg_accuracy_dt = np.mean(accuracy_scores)\n",
        "\n",
        "print(f'Average Precision Decision Tree: {avg_precision_dt:.2f}')\n",
        "print(f'Average Recall Decision Tree: {avg_recall_dt:.2f}')\n",
        "print(f'Average F1 Score Decision Tree: {avg_f1_dt:.2f}')\n",
        "print(f'Average Accuracy Decision Tree: {avg_accuracy_dt:.2f}')\n",
        "\n",
        "# Train the model on the entire training data\n",
        "dt_best.fit(X_train, y_train)\n",
        "\n",
        "# Make predictions on the test data\n",
        "y_test_pred = dt_best.predict(X_test)\n",
        "\n",
        "# Evaluate the model on the test data\n",
        "test_precision_dt = precision_score(y_test, y_test_pred, average='weighted')\n",
        "test_recall_dt = recall_score(y_test, y_test_pred, average='weighted')\n",
        "test_f1_dt = f1_score(y_test, y_test_pred, average='weighted')\n",
        "test_accuracy_dt = accuracy_score(y_test, y_test_pred)\n",
        "\n",
        "print(f'Test Precision Decision Tree: {test_precision_dt:.2f}')\n",
        "print(f'Test Recall Decision Tree: {test_recall_dt:.2f}')\n",
        "print(f'Test F1 Score Decision Tree: {test_f1_dt:.2f}')\n",
        "print(f'Test Accuracy Decision Tree: {test_accuracy_dt:.2f}')\n",
        "\n",
        "\n",
        "conf_matrix = confusion_matrix(y_test, y_test_pred)\n",
        "plt.figure(figsize=(10, 8))\n",
        "sns.heatmap(conf_matrix, annot=True, fmt='d', cmap='Blues', xticklabels=le.classes_, yticklabels=le.classes_)\n",
        "plt.title('Confusion Matrix')\n",
        "plt.xlabel('Predicted')\n",
        "plt.ylabel('Actual')\n",
        "plt.show()\n",
        "# Save the model\n"
      ]
    },
    {
      "cell_type": "code",
      "execution_count": null,
      "metadata": {
        "colab": {
          "base_uri": "https://localhost:8080/"
        },
        "id": "jUFHqOZMBzqo",
        "outputId": "e3b36b18-2a46-4a3f-9623-5093d90fa292"
      },
      "outputs": [
        {
          "data": {
            "text/plain": [
              "['/content/drive/MyDrive/Colab_Notebooks/data/Decision_Tree_Hyper_Tuned.pkl']"
            ]
          },
          "execution_count": 27,
          "metadata": {},
          "output_type": "execute_result"
        }
      ],
      "source": [
        "joblib.dump(dt_best, '/content/drive/MyDrive/Colab_Notebooks/data/Decision_Tree_Hyper_Tuned.pkl')\n"
      ]
    },
    {
      "cell_type": "code",
      "execution_count": null,
      "metadata": {
        "colab": {
          "base_uri": "https://localhost:8080/"
        },
        "id": "YQfCWzn3H7FD",
        "outputId": "d1f1dbd2-79b7-4b8c-90ea-f9e192ff4621"
      },
      "outputs": [
        {
          "data": {
            "text/plain": [
              "RFM_Segment\n",
              "Champions              91293\n",
              "Potential Loyalists    77391\n",
              "Loyal Customers        52683\n",
              "At-Risk                27676\n",
              "Hibernating            21031\n",
              "Others                 19295\n",
              "Big Spenders           11380\n",
              "Name: count, dtype: int64"
            ]
          },
          "execution_count": 51,
          "metadata": {},
          "output_type": "execute_result"
        }
      ],
      "source": [
        "df_labeled['RFM_Segment'].value_counts()"
      ]
    },
    {
      "cell_type": "markdown",
      "source": [
        "### XGboost"
      ],
      "metadata": {
        "id": "VA2jYTS10ixe"
      }
    },
    {
      "cell_type": "code",
      "execution_count": null,
      "metadata": {
        "id": "Cvf95TiIdPKO"
      },
      "outputs": [],
      "source": [
        "import pandas as pd\n",
        "import numpy as np\n",
        "from sklearn.model_selection import train_test_split, KFold, GridSearchCV\n",
        "from sklearn.preprocessing import StandardScaler, LabelEncoder\n",
        "from sklearn.metrics import precision_score, recall_score, f1_score, accuracy_score\n",
        "import xgboost as xgb\n",
        "import joblib\n",
        "\n",
        "# Split data into training, validation, and testing sets\n",
        "X_train_val, X_test, y_train_val, y_test = train_test_split(X, y, test_size=0.2, random_state=42)\n",
        "X_train, X_val, y_train, y_val = train_test_split(X_train_val, y_train_val, test_size=0.2, random_state=42)\n",
        "\n",
        "# Standardize the data\n",
        "scaler = StandardScaler()\n",
        "X_train = scaler.fit_transform(X_train)\n",
        "X_val = scaler.transform(X_val)\n",
        "X_test = scaler.transform(X_test)\n",
        "\n",
        "# Define the XGBoost model\n",
        "xgb_model = xgb.XGBClassifier(use_label_encoder=False, eval_metric='mlogloss', random_state=42)\n",
        "\n",
        "# Define the parameter grid for hyperparameter tuning\n",
        "param_grid = {\n",
        "    'n_estimators': [100, 200, 300],\n",
        "    'max_depth': [3, 6, 9],\n",
        "    'learning_rate': [0.01, 0.1, 0.2],\n",
        "    'subsample': [0.7, 0.8, 0.9],\n",
        "    'colsample_bytree': [0.7, 0.8, 0.9]\n",
        "}\n",
        "\n",
        "# Define GridSearchCV for hyperparameter tuning\n",
        "grid_search = GridSearchCV(estimator=xgb_model, param_grid=param_grid, cv=5, scoring='accuracy', n_jobs=-1, verbose=2)\n",
        "\n",
        "# Fit GridSearchCV on the validation set\n",
        "grid_search.fit(X_val, y_val)\n",
        "\n",
        "# Get the best parameters\n",
        "best_params = grid_search.best_params_\n",
        "print(f'Best parameters: {best_params}')\n",
        "\n",
        "# Train the XGBoost model with the best parameters on the entire training data\n",
        "xgb_best = xgb.XGBClassifier(**best_params, use_label_encoder=False, eval_metric='mlogloss', random_state=42)\n",
        "xgb_best.fit(np.vstack((X_train, X_val)), np.concatenate((y_train, y_val)))\n",
        "\n",
        "# Define k-fold cross-validation\n",
        "kf = KFold(n_splits=5, shuffle=True, random_state=42)\n",
        "\n",
        "# Initialize lists to store evaluation metrics\n",
        "precision_scores = []\n",
        "recall_scores = []\n",
        "f1_scores = []\n",
        "accuracy_scores = []\n",
        "\n",
        "# Perform k-fold cross-validation\n",
        "for train_index, val_index in kf.split(X_train):\n",
        "    X_ktrain, X_kval = X_train[train_index], X_train[val_index]\n",
        "    y_ktrain, y_kval = y_train.iloc[train_index], y_train.iloc[val_index]\n",
        "\n",
        "    # Train the model\n",
        "    xgb_best.fit(X_ktrain, y_ktrain)\n",
        "\n",
        "    # Make predictions\n",
        "    y_val_pred = xgb_best.predict(X_kval)\n",
        "\n",
        "    # Evaluate the model\n",
        "    precision = precision_score(y_kval, y_val_pred, average='weighted')\n",
        "    recall = recall_score(y_kval, y_val_pred, average='weighted')\n",
        "    f1 = f1_score(y_kval, y_val_pred, average='weighted')\n",
        "    accuracy = accuracy_score(y_kval, y_val_pred)\n",
        "\n",
        "    precision_scores.append(precision)\n",
        "    recall_scores.append(recall)\n",
        "    f1_scores.append(f1)\n",
        "    accuracy_scores.append(accuracy)\n",
        "\n",
        "# Calculate average metrics\n",
        "avg_precision_xgb = np.mean(precision_scores)\n",
        "avg_recall_xgb = np.mean(recall_scores)\n",
        "avg_f1_xgb = np.mean(f1_scores)\n",
        "avg_accuracy_xgb = np.mean(accuracy_scores)\n",
        "\n",
        "print(f'Average Precision XGBoost: {avg_precision_xgb:.2f}')\n",
        "print(f'Average Recall XGBoost: {avg_recall_xgb:.2f}')\n",
        "print(f'Average F1 Score XGBoost: {avg_f1_xgb:.2f}')\n",
        "print(f'Average Accuracy XGBoost: {avg_accuracy_xgb:.2f}')\n",
        "\n",
        "# Make predictions on the test data\n",
        "y_test_pred = xgb_best.predict(X_test)\n",
        "\n",
        "# Evaluate the model on the test data\n",
        "test_precision_xgb = precision_score(y_test, y_test_pred, average='weighted')\n",
        "test_recall_xgb = recall_score(y_test, y_test_pred, average='weighted')\n",
        "test_f1_xgb = f1_score(y_test, y_test_pred, average='weighted')\n",
        "test_accuracy_xgb = accuracy_score(y_test, y_test_pred)\n",
        "\n",
        "print(f'Test Precision XGBoost: {test_precision_xgb:.2f}')\n",
        "print(f'Test Recall XGBoost: {test_recall_xgb:.2f}')\n",
        "print(f'Test F1 Score XGBoost: {test_f1_xgb:.2f}')\n",
        "print(f'Test Accuracy XGBoost: {test_accuracy_xgb:.2f}')\n",
        "\n",
        "# Save the model\n",
        "joblib.dump(xgb_best, '/content/drive/MyDrive/Colab_Notebooks/data/XGBoost_Hyper_Tuned.pkl')\n"
      ]
    },
    {
      "cell_type": "code",
      "execution_count": null,
      "metadata": {
        "colab": {
          "base_uri": "https://localhost:8080/"
        },
        "id": "tuWDEutX0jdG",
        "outputId": "ee3f8bbb-84a6-4e99-ef24-e8c45c56d042"
      },
      "outputs": [
        {
          "data": {
            "text/plain": [
              "['/content/drive/MyDrive/Colab_Notebooks/data/XGBoost_Hyper_Tuned.pkl']"
            ]
          },
          "execution_count": 18,
          "metadata": {},
          "output_type": "execute_result"
        }
      ],
      "source": [
        "joblib.dump(xgb_best, '/content/drive/MyDrive/Colab_Notebooks/data/XGBoost_Hyper_Tuned.pkl')\n"
      ]
    },
    {
      "cell_type": "code",
      "source": [
        "import joblib\n",
        "import numpy as np\n",
        "from sklearn.metrics import precision_score, recall_score, f1_score, accuracy_score\n",
        "\n",
        "# Load the saved model\n",
        "xgb_best = joblib.load('/content/drive/MyDrive/Colab_Notebooks/data/XGBoost_Hyper_Tuned.pkl')\n",
        "\n",
        "X_train_val, X_test, y_train_val, y_test = train_test_split(X, y, test_size=0.2, random_state=42)\n",
        "\n",
        "# Standardize the test data if not already done\n",
        "scaler = StandardScaler()\n",
        "X_test = scaler.fit_transform(X_test)\n",
        "\n",
        "# Make predictions on the test data\n",
        "y_test_pred = xgb_best.predict(X_test)\n",
        "\n",
        "# Evaluate the model on the test data\n",
        "test_precision_xgb = precision_score(y_test, y_test_pred, average='weighted')\n",
        "test_recall_xgb = recall_score(y_test, y_test_pred, average='weighted')\n",
        "test_f1_xgb = f1_score(y_test, y_test_pred, average='weighted')\n",
        "test_accuracy_xgb = accuracy_score(y_test, y_test_pred)\n",
        "\n",
        "print(f'Test Precision XGBoost: {test_precision_xgb:.2f}')\n",
        "print(f'Test Recall XGBoost: {test_recall_xgb:.2f}')\n",
        "print(f'Test F1 Score XGBoost: {test_f1_xgb:.2f}')\n",
        "print(f'Test Accuracy XGBoost: {test_accuracy_xgb:.2f}')\n"
      ],
      "metadata": {
        "id": "Jt7tiGV3yMQh",
        "outputId": "22d4d5c8-8639-495d-f455-f71af56d6d69",
        "colab": {
          "base_uri": "https://localhost:8080/"
        }
      },
      "execution_count": 7,
      "outputs": [
        {
          "output_type": "stream",
          "name": "stderr",
          "text": [
            "/usr/local/lib/python3.10/dist-packages/xgboost/core.py:158: UserWarning: [05:24:33] WARNING: /workspace/src/collective/../data/../common/error_msg.h:80: If you are loading a serialized model (like pickle in Python, RDS in R) or\n",
            "configuration generated by an older version of XGBoost, please export the model by calling\n",
            "`Booster.save_model` from that version first, then load it back in current version. See:\n",
            "\n",
            "    https://xgboost.readthedocs.io/en/stable/tutorials/saving_model.html\n",
            "\n",
            "for more details about differences between saving model and serializing.\n",
            "\n",
            "  warnings.warn(smsg, UserWarning)\n"
          ]
        },
        {
          "output_type": "stream",
          "name": "stdout",
          "text": [
            "Test Precision XGBoost: 0.68\n",
            "Test Recall XGBoost: 0.66\n",
            "Test F1 Score XGBoost: 0.64\n",
            "Test Accuracy XGBoost: 0.66\n"
          ]
        }
      ]
    },
    {
      "cell_type": "markdown",
      "source": [
        "### Neural Network"
      ],
      "metadata": {
        "id": "f2W-zpT30o3k"
      }
    },
    {
      "cell_type": "code",
      "execution_count": null,
      "metadata": {
        "colab": {
          "base_uri": "https://localhost:8080/"
        },
        "id": "OyO40wl_kTyC",
        "outputId": "4afe8f1b-fae3-4757-fd6f-069a0f1d8164"
      },
      "outputs": [
        {
          "name": "stdout",
          "output_type": "stream",
          "text": [
            "Epoch 1/20, Train Loss: 1.0081, Val Loss: 0.8050, Val Precision: 0.6057, Val Recall: 0.6081, Val F1 Score: 0.5857, Val Accuracy: 0.6081\n",
            "Epoch 2/20, Train Loss: 0.8712, Val Loss: 0.7798, Val Precision: 0.6080, Val Recall: 0.6085, Val F1 Score: 0.5728, Val Accuracy: 0.6085\n",
            "Epoch 3/20, Train Loss: 0.8414, Val Loss: 0.7586, Val Precision: 0.6390, Val Recall: 0.6161, Val F1 Score: 0.5912, Val Accuracy: 0.6161\n",
            "Epoch 4/20, Train Loss: 0.8261, Val Loss: 0.7582, Val Precision: 0.6666, Val Recall: 0.5836, Val F1 Score: 0.5327, Val Accuracy: 0.5836\n"
          ]
        },
        {
          "name": "stderr",
          "output_type": "stream",
          "text": [
            "/usr/local/lib/python3.10/dist-packages/sklearn/metrics/_classification.py:1471: UndefinedMetricWarning: Precision is ill-defined and being set to 0.0 in labels with no predicted samples. Use `zero_division` parameter to control this behavior.\n",
            "  _warn_prf(average, modifier, msg_start, len(result))\n"
          ]
        },
        {
          "name": "stdout",
          "output_type": "stream",
          "text": [
            "Epoch 5/20, Train Loss: 0.8142, Val Loss: 0.7530, Val Precision: 0.6066, Val Recall: 0.6176, Val F1 Score: 0.5914, Val Accuracy: 0.6176\n",
            "Epoch 6/20, Train Loss: 0.8098, Val Loss: 0.7395, Val Precision: 0.6311, Val Recall: 0.6263, Val F1 Score: 0.6001, Val Accuracy: 0.6263\n",
            "Epoch 7/20, Train Loss: 0.8019, Val Loss: 0.7359, Val Precision: 0.6527, Val Recall: 0.6245, Val F1 Score: 0.5998, Val Accuracy: 0.6245\n",
            "Epoch 8/20, Train Loss: 0.7985, Val Loss: 0.7338, Val Precision: 0.6528, Val Recall: 0.6206, Val F1 Score: 0.6021, Val Accuracy: 0.6206\n"
          ]
        },
        {
          "name": "stderr",
          "output_type": "stream",
          "text": [
            "/usr/local/lib/python3.10/dist-packages/sklearn/metrics/_classification.py:1471: UndefinedMetricWarning: Precision is ill-defined and being set to 0.0 in labels with no predicted samples. Use `zero_division` parameter to control this behavior.\n",
            "  _warn_prf(average, modifier, msg_start, len(result))\n"
          ]
        },
        {
          "name": "stdout",
          "output_type": "stream",
          "text": [
            "Epoch 9/20, Train Loss: 0.7936, Val Loss: 0.7356, Val Precision: 0.6107, Val Recall: 0.6183, Val F1 Score: 0.5784, Val Accuracy: 0.6183\n",
            "Epoch 10/20, Train Loss: 0.7901, Val Loss: 0.7267, Val Precision: 0.6494, Val Recall: 0.6260, Val F1 Score: 0.5982, Val Accuracy: 0.6260\n",
            "Epoch 11/20, Train Loss: 0.7900, Val Loss: 0.7276, Val Precision: 0.6411, Val Recall: 0.6248, Val F1 Score: 0.5990, Val Accuracy: 0.6248\n",
            "Epoch 12/20, Train Loss: 0.7852, Val Loss: 0.7222, Val Precision: 0.6503, Val Recall: 0.6273, Val F1 Score: 0.6024, Val Accuracy: 0.6273\n",
            "Epoch 13/20, Train Loss: 0.7848, Val Loss: 0.7236, Val Precision: 0.6820, Val Recall: 0.6236, Val F1 Score: 0.5958, Val Accuracy: 0.6236\n",
            "Epoch 14/20, Train Loss: 0.7821, Val Loss: 0.7282, Val Precision: 0.6594, Val Recall: 0.6211, Val F1 Score: 0.5988, Val Accuracy: 0.6211\n",
            "Epoch 15/20, Train Loss: 0.7808, Val Loss: 0.7213, Val Precision: 0.6420, Val Recall: 0.6243, Val F1 Score: 0.5902, Val Accuracy: 0.6243\n",
            "Epoch 16/20, Train Loss: 0.7762, Val Loss: 0.7196, Val Precision: 0.6669, Val Recall: 0.6214, Val F1 Score: 0.5944, Val Accuracy: 0.6214\n",
            "Epoch 17/20, Train Loss: 0.7765, Val Loss: 0.7199, Val Precision: 0.6434, Val Recall: 0.6269, Val F1 Score: 0.6043, Val Accuracy: 0.6269\n",
            "Epoch 18/20, Train Loss: 0.7752, Val Loss: 0.7207, Val Precision: 0.6544, Val Recall: 0.6212, Val F1 Score: 0.6088, Val Accuracy: 0.6212\n",
            "Epoch 19/20, Train Loss: 0.7746, Val Loss: 0.7176, Val Precision: 0.6477, Val Recall: 0.6187, Val F1 Score: 0.5915, Val Accuracy: 0.6187\n",
            "Epoch 20/20, Train Loss: 0.7730, Val Loss: 0.7199, Val Precision: 0.6480, Val Recall: 0.6228, Val F1 Score: 0.6001, Val Accuracy: 0.6228\n",
            "Test Loss: 0.7220, Test Precision: 0.6546, Test Recall: 0.6241, Test F1 Score: 0.6011, Test Accuracy: 0.6241\n"
          ]
        }
      ],
      "source": [
        "import torch\n",
        "import torch.nn as nn\n",
        "import torch.optim as optim\n",
        "from torch.utils.data import DataLoader, TensorDataset\n",
        "from sklearn.preprocessing import StandardScaler\n",
        "from sklearn.model_selection import train_test_split\n",
        "from sklearn.metrics import precision_score, recall_score, f1_score, accuracy_score\n",
        "import numpy as np\n",
        "\n",
        "\n",
        "# Split data into training, validation, and testing sets\n",
        "X_train_val, X_test, y_train_val, y_test = train_test_split(X, y, test_size=0.2, random_state=42)\n",
        "X_train, X_val, y_train, y_val = train_test_split(X_train_val, y_train_val, test_size=0.2, random_state=42)\n",
        "\n",
        "# Standardize the data\n",
        "scaler = StandardScaler()\n",
        "X_train = scaler.fit_transform(X_train)\n",
        "X_val = scaler.transform(X_val)\n",
        "X_test = scaler.transform(X_test)\n",
        "\n",
        "# Convert data to PyTorch tensors\n",
        "X_train_tensor = torch.tensor(X_train, dtype=torch.float32)\n",
        "y_train_tensor = torch.tensor(y_train.values, dtype=torch.long)\n",
        "X_val_tensor = torch.tensor(X_val, dtype=torch.float32)\n",
        "y_val_tensor = torch.tensor(y_val.values, dtype=torch.long)\n",
        "X_test_tensor = torch.tensor(X_test, dtype=torch.float32)\n",
        "y_test_tensor = torch.tensor(y_test.values, dtype=torch.long)\n",
        "\n",
        "# Create DataLoader\n",
        "train_dataset = TensorDataset(X_train_tensor, y_train_tensor)\n",
        "val_dataset = TensorDataset(X_val_tensor, y_val_tensor)\n",
        "test_dataset = TensorDataset(X_test_tensor, y_test_tensor)\n",
        "\n",
        "train_loader = DataLoader(train_dataset, batch_size=64, shuffle=True)\n",
        "val_loader = DataLoader(val_dataset, batch_size=64, shuffle=False)\n",
        "test_loader = DataLoader(test_dataset, batch_size=64, shuffle=False)\n",
        "\n",
        "# Define the neural network model\n",
        "class NeuralNetwork(nn.Module):\n",
        "    def __init__(self, input_size, num_classes):\n",
        "        super(NeuralNetwork, self).__init__()\n",
        "        self.fc1 = nn.Linear(input_size, 128)\n",
        "        self.fc2 = nn.Linear(128, 64)\n",
        "        self.fc3 = nn.Linear(64, num_classes)\n",
        "        self.relu = nn.ReLU()\n",
        "        self.dropout = nn.Dropout(p=0.5)\n",
        "\n",
        "    def forward(self, x):\n",
        "        x = self.relu(self.fc1(x))\n",
        "        x = self.dropout(x)\n",
        "        x = self.relu(self.fc2(x))\n",
        "        x = self.dropout(x)\n",
        "        x = self.fc3(x)\n",
        "        return x\n",
        "\n",
        "# Initialize the model, loss function, and optimizer\n",
        "input_size = X_train.shape[1]\n",
        "num_classes = len(np.unique(y))\n",
        "model = NeuralNetwork(input_size, num_classes)\n",
        "criterion = nn.CrossEntropyLoss()\n",
        "optimizer = optim.Adam(model.parameters(), lr=0.001)\n",
        "\n",
        "# Training the model\n",
        "num_epochs = 20\n",
        "\n",
        "for epoch in range(num_epochs):\n",
        "    model.train()\n",
        "    train_loss = 0.0\n",
        "    for X_batch, y_batch in train_loader:\n",
        "        optimizer.zero_grad()\n",
        "        outputs = model(X_batch)\n",
        "        loss = criterion(outputs, y_batch)\n",
        "        loss.backward()\n",
        "        optimizer.step()\n",
        "        train_loss += loss.item() * X_batch.size(0)\n",
        "\n",
        "    train_loss /= len(train_loader.dataset)\n",
        "\n",
        "    model.eval()\n",
        "    val_loss = 0.0\n",
        "    all_preds = []\n",
        "    all_labels = []\n",
        "    with torch.no_grad():\n",
        "        for X_batch, y_batch in val_loader:\n",
        "            outputs = model(X_batch)\n",
        "            loss = criterion(outputs, y_batch)\n",
        "            val_loss += loss.item() * X_batch.size(0)\n",
        "            _, preds = torch.max(outputs, 1)\n",
        "            all_preds.extend(preds.numpy())\n",
        "            all_labels.extend(y_batch.numpy())\n",
        "\n",
        "    val_loss /= len(val_loader.dataset)\n",
        "    val_precision = precision_score(all_labels, all_preds, average='weighted')\n",
        "    val_recall = recall_score(all_labels, all_preds, average='weighted')\n",
        "    val_f1 = f1_score(all_labels, all_preds, average='weighted')\n",
        "    val_accuracy = accuracy_score(all_labels, all_preds)\n",
        "\n",
        "    print(f'Epoch {epoch+1}/{num_epochs}, '\n",
        "          f'Train Loss: {train_loss:.4f}, '\n",
        "          f'Val Loss: {val_loss:.4f}, '\n",
        "          f'Val Precision: {val_precision:.4f}, '\n",
        "          f'Val Recall: {val_recall:.4f}, '\n",
        "          f'Val F1 Score: {val_f1:.4f}, '\n",
        "          f'Val Accuracy: {val_accuracy:.4f}')\n",
        "\n",
        "# Evaluate the model on the test data\n",
        "model.eval()\n",
        "test_loss = 0.0\n",
        "all_preds = []\n",
        "all_labels = []\n",
        "with torch.no_grad():\n",
        "    for X_batch, y_batch in test_loader:\n",
        "        outputs = model(X_batch)\n",
        "        loss = criterion(outputs, y_batch)\n",
        "        test_loss += loss.item() * X_batch.size(0)\n",
        "        _, preds = torch.max(outputs, 1)\n",
        "        all_preds.extend(preds.numpy())\n",
        "        all_labels.extend(y_batch.numpy())\n",
        "\n",
        "test_loss /= len(test_loader.dataset)\n",
        "test_precision = precision_score(all_labels, all_preds, average='weighted')\n",
        "test_recall = recall_score(all_labels, all_preds, average='weighted')\n",
        "test_f1 = f1_score(all_labels, all_preds, average='weighted')\n",
        "test_accuracy = accuracy_score(all_labels, all_preds)\n",
        "\n",
        "print(f'Test Loss: {test_loss:.4f}, '\n",
        "      f'Test Precision: {test_precision:.4f}, '\n",
        "      f'Test Recall: {test_recall:.4f}, '\n",
        "      f'Test F1 Score: {test_f1:.4f}, '\n",
        "      f'Test Accuracy: {test_accuracy:.4f}')\n",
        "\n",
        "# Save the model\n",
        "torch.save(model.state_dict(), '/content/drive/MyDrive/Colab_Notebooks/data/neural_network_model.pth')\n"
      ]
    }
  ],
  "metadata": {
    "accelerator": "GPU",
    "colab": {
      "gpuType": "T4",
      "machine_shape": "hm",
      "provenance": [],
      "authorship_tag": "ABX9TyNC+HP5e9k293SsMY8ELuXd",
      "include_colab_link": true
    },
    "kernelspec": {
      "display_name": "Python 3",
      "name": "python3"
    },
    "language_info": {
      "name": "python"
    }
  },
  "nbformat": 4,
  "nbformat_minor": 0
}