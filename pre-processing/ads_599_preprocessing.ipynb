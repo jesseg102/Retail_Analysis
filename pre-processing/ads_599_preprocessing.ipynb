{
  "nbformat": 4,
  "nbformat_minor": 0,
  "metadata": {
    "colab": {
      "provenance": [],
      "gpuType": "T4"
    },
    "kernelspec": {
      "name": "python3",
      "display_name": "Python 3"
    },
    "language_info": {
      "name": "python"
    },
    "accelerator": "GPU"
  },
  "cells": [
    {
      "cell_type": "code",
      "execution_count": null,
      "metadata": {
        "id": "aOfV5lxtQp6j"
      },
      "outputs": [],
      "source": [
        "import pandas as pd\n",
        "import numpy as np\n",
        "import matplotlib.pyplot as plt\n",
        "import seaborn as sns\n"
      ]
    },
    {
      "cell_type": "code",
      "source": [
        "# connect with google drive\n",
        "from google.colab import drive\n",
        "drive.mount('/content/drive')"
      ],
      "metadata": {
        "colab": {
          "base_uri": "https://localhost:8080/"
        },
        "id": "MdVuFk-UZGIo",
        "outputId": "960e5ed4-4f94-46ca-f3b4-8fdfb890672b"
      },
      "execution_count": null,
      "outputs": [
        {
          "output_type": "stream",
          "name": "stdout",
          "text": [
            "Mounted at /content/drive\n"
          ]
        }
      ]
    },
    {
      "cell_type": "code",
      "source": [
        "retail_data = pd.read_csv('/content/drive/MyDrive/Colab_Notebooks/retail_data.csv')"
      ],
      "metadata": {
        "id": "Gmv-r2AMY_S1"
      },
      "execution_count": 152,
      "outputs": []
    },
    {
      "cell_type": "code",
      "source": [
        "retail_data.head()"
      ],
      "metadata": {
        "colab": {
          "base_uri": "https://localhost:8080/",
          "height": 481
        },
        "id": "S51mnaIWZznc",
        "outputId": "e0f5855a-1991-4eec-d28c-da821811821e"
      },
      "execution_count": 153,
      "outputs": [
        {
          "output_type": "execute_result",
          "data": {
            "text/plain": [
              "   Transaction_ID  Customer_ID                 Name                Email  \\\n",
              "0       8691788.0      37249.0  Michelle Harrington    Ebony39@gmail.com   \n",
              "1       2174773.0      69749.0          Kelsey Hill     Mark36@gmail.com   \n",
              "2       6679610.0      30192.0         Scott Jensen    Shane85@gmail.com   \n",
              "3       7232460.0      62101.0        Joseph Miller     Mary34@gmail.com   \n",
              "4       4983775.0      27901.0        Debra Coleman  Charles30@gmail.com   \n",
              "\n",
              "          Phone                      Address        City            State  \\\n",
              "0  1.414787e+09            3959 Amanda Burgs    Dortmund           Berlin   \n",
              "1  6.852900e+09           82072 Dawn Centers  Nottingham          England   \n",
              "2  8.362160e+09            4133 Young Canyon     Geelong  New South Wales   \n",
              "3  2.776752e+09  8148 Thomas Creek Suite 100    Edmonton          Ontario   \n",
              "4  9.098268e+09    5813 Lori Ports Suite 269     Bristol          England   \n",
              "\n",
              "   Zipcode    Country  ...  Total_Amount Product_Category  Product_Brand  \\\n",
              "0  77985.0    Germany  ...    324.086270         Clothing           Nike   \n",
              "1  99071.0         UK  ...    806.707815      Electronics        Samsung   \n",
              "2  75929.0  Australia  ...   1063.432799            Books  Penguin Books   \n",
              "3  88420.0     Canada  ...   2466.854021       Home Decor     Home Depot   \n",
              "4  48704.0         UK  ...    248.553049          Grocery         Nestle   \n",
              "\n",
              "  Product_Type   Feedback  Shipping_Method Payment_Method Order_Status  \\\n",
              "0       Shorts  Excellent         Same-Day     Debit Card      Shipped   \n",
              "1       Tablet  Excellent         Standard    Credit Card   Processing   \n",
              "2   Children's    Average         Same-Day    Credit Card   Processing   \n",
              "3        Tools  Excellent         Standard         PayPal   Processing   \n",
              "4    Chocolate        Bad         Standard           Cash      Shipped   \n",
              "\n",
              "   Ratings           products  \n",
              "0      5.0     Cycling shorts  \n",
              "1      4.0         Lenovo Tab  \n",
              "2      2.0   Sports equipment  \n",
              "3      4.0      Utility knife  \n",
              "4      1.0  Chocolate cookies  \n",
              "\n",
              "[5 rows x 30 columns]"
            ],
            "text/html": [
              "\n",
              "  <div id=\"df-a6b5f151-a3e3-4d52-b151-85688e0d3df2\" class=\"colab-df-container\">\n",
              "    <div>\n",
              "<style scoped>\n",
              "    .dataframe tbody tr th:only-of-type {\n",
              "        vertical-align: middle;\n",
              "    }\n",
              "\n",
              "    .dataframe tbody tr th {\n",
              "        vertical-align: top;\n",
              "    }\n",
              "\n",
              "    .dataframe thead th {\n",
              "        text-align: right;\n",
              "    }\n",
              "</style>\n",
              "<table border=\"1\" class=\"dataframe\">\n",
              "  <thead>\n",
              "    <tr style=\"text-align: right;\">\n",
              "      <th></th>\n",
              "      <th>Transaction_ID</th>\n",
              "      <th>Customer_ID</th>\n",
              "      <th>Name</th>\n",
              "      <th>Email</th>\n",
              "      <th>Phone</th>\n",
              "      <th>Address</th>\n",
              "      <th>City</th>\n",
              "      <th>State</th>\n",
              "      <th>Zipcode</th>\n",
              "      <th>Country</th>\n",
              "      <th>...</th>\n",
              "      <th>Total_Amount</th>\n",
              "      <th>Product_Category</th>\n",
              "      <th>Product_Brand</th>\n",
              "      <th>Product_Type</th>\n",
              "      <th>Feedback</th>\n",
              "      <th>Shipping_Method</th>\n",
              "      <th>Payment_Method</th>\n",
              "      <th>Order_Status</th>\n",
              "      <th>Ratings</th>\n",
              "      <th>products</th>\n",
              "    </tr>\n",
              "  </thead>\n",
              "  <tbody>\n",
              "    <tr>\n",
              "      <th>0</th>\n",
              "      <td>8691788.0</td>\n",
              "      <td>37249.0</td>\n",
              "      <td>Michelle Harrington</td>\n",
              "      <td>Ebony39@gmail.com</td>\n",
              "      <td>1.414787e+09</td>\n",
              "      <td>3959 Amanda Burgs</td>\n",
              "      <td>Dortmund</td>\n",
              "      <td>Berlin</td>\n",
              "      <td>77985.0</td>\n",
              "      <td>Germany</td>\n",
              "      <td>...</td>\n",
              "      <td>324.086270</td>\n",
              "      <td>Clothing</td>\n",
              "      <td>Nike</td>\n",
              "      <td>Shorts</td>\n",
              "      <td>Excellent</td>\n",
              "      <td>Same-Day</td>\n",
              "      <td>Debit Card</td>\n",
              "      <td>Shipped</td>\n",
              "      <td>5.0</td>\n",
              "      <td>Cycling shorts</td>\n",
              "    </tr>\n",
              "    <tr>\n",
              "      <th>1</th>\n",
              "      <td>2174773.0</td>\n",
              "      <td>69749.0</td>\n",
              "      <td>Kelsey Hill</td>\n",
              "      <td>Mark36@gmail.com</td>\n",
              "      <td>6.852900e+09</td>\n",
              "      <td>82072 Dawn Centers</td>\n",
              "      <td>Nottingham</td>\n",
              "      <td>England</td>\n",
              "      <td>99071.0</td>\n",
              "      <td>UK</td>\n",
              "      <td>...</td>\n",
              "      <td>806.707815</td>\n",
              "      <td>Electronics</td>\n",
              "      <td>Samsung</td>\n",
              "      <td>Tablet</td>\n",
              "      <td>Excellent</td>\n",
              "      <td>Standard</td>\n",
              "      <td>Credit Card</td>\n",
              "      <td>Processing</td>\n",
              "      <td>4.0</td>\n",
              "      <td>Lenovo Tab</td>\n",
              "    </tr>\n",
              "    <tr>\n",
              "      <th>2</th>\n",
              "      <td>6679610.0</td>\n",
              "      <td>30192.0</td>\n",
              "      <td>Scott Jensen</td>\n",
              "      <td>Shane85@gmail.com</td>\n",
              "      <td>8.362160e+09</td>\n",
              "      <td>4133 Young Canyon</td>\n",
              "      <td>Geelong</td>\n",
              "      <td>New South Wales</td>\n",
              "      <td>75929.0</td>\n",
              "      <td>Australia</td>\n",
              "      <td>...</td>\n",
              "      <td>1063.432799</td>\n",
              "      <td>Books</td>\n",
              "      <td>Penguin Books</td>\n",
              "      <td>Children's</td>\n",
              "      <td>Average</td>\n",
              "      <td>Same-Day</td>\n",
              "      <td>Credit Card</td>\n",
              "      <td>Processing</td>\n",
              "      <td>2.0</td>\n",
              "      <td>Sports equipment</td>\n",
              "    </tr>\n",
              "    <tr>\n",
              "      <th>3</th>\n",
              "      <td>7232460.0</td>\n",
              "      <td>62101.0</td>\n",
              "      <td>Joseph Miller</td>\n",
              "      <td>Mary34@gmail.com</td>\n",
              "      <td>2.776752e+09</td>\n",
              "      <td>8148 Thomas Creek Suite 100</td>\n",
              "      <td>Edmonton</td>\n",
              "      <td>Ontario</td>\n",
              "      <td>88420.0</td>\n",
              "      <td>Canada</td>\n",
              "      <td>...</td>\n",
              "      <td>2466.854021</td>\n",
              "      <td>Home Decor</td>\n",
              "      <td>Home Depot</td>\n",
              "      <td>Tools</td>\n",
              "      <td>Excellent</td>\n",
              "      <td>Standard</td>\n",
              "      <td>PayPal</td>\n",
              "      <td>Processing</td>\n",
              "      <td>4.0</td>\n",
              "      <td>Utility knife</td>\n",
              "    </tr>\n",
              "    <tr>\n",
              "      <th>4</th>\n",
              "      <td>4983775.0</td>\n",
              "      <td>27901.0</td>\n",
              "      <td>Debra Coleman</td>\n",
              "      <td>Charles30@gmail.com</td>\n",
              "      <td>9.098268e+09</td>\n",
              "      <td>5813 Lori Ports Suite 269</td>\n",
              "      <td>Bristol</td>\n",
              "      <td>England</td>\n",
              "      <td>48704.0</td>\n",
              "      <td>UK</td>\n",
              "      <td>...</td>\n",
              "      <td>248.553049</td>\n",
              "      <td>Grocery</td>\n",
              "      <td>Nestle</td>\n",
              "      <td>Chocolate</td>\n",
              "      <td>Bad</td>\n",
              "      <td>Standard</td>\n",
              "      <td>Cash</td>\n",
              "      <td>Shipped</td>\n",
              "      <td>1.0</td>\n",
              "      <td>Chocolate cookies</td>\n",
              "    </tr>\n",
              "  </tbody>\n",
              "</table>\n",
              "<p>5 rows × 30 columns</p>\n",
              "</div>\n",
              "    <div class=\"colab-df-buttons\">\n",
              "\n",
              "  <div class=\"colab-df-container\">\n",
              "    <button class=\"colab-df-convert\" onclick=\"convertToInteractive('df-a6b5f151-a3e3-4d52-b151-85688e0d3df2')\"\n",
              "            title=\"Convert this dataframe to an interactive table.\"\n",
              "            style=\"display:none;\">\n",
              "\n",
              "  <svg xmlns=\"http://www.w3.org/2000/svg\" height=\"24px\" viewBox=\"0 -960 960 960\">\n",
              "    <path d=\"M120-120v-720h720v720H120Zm60-500h600v-160H180v160Zm220 220h160v-160H400v160Zm0 220h160v-160H400v160ZM180-400h160v-160H180v160Zm440 0h160v-160H620v160ZM180-180h160v-160H180v160Zm440 0h160v-160H620v160Z\"/>\n",
              "  </svg>\n",
              "    </button>\n",
              "\n",
              "  <style>\n",
              "    .colab-df-container {\n",
              "      display:flex;\n",
              "      gap: 12px;\n",
              "    }\n",
              "\n",
              "    .colab-df-convert {\n",
              "      background-color: #E8F0FE;\n",
              "      border: none;\n",
              "      border-radius: 50%;\n",
              "      cursor: pointer;\n",
              "      display: none;\n",
              "      fill: #1967D2;\n",
              "      height: 32px;\n",
              "      padding: 0 0 0 0;\n",
              "      width: 32px;\n",
              "    }\n",
              "\n",
              "    .colab-df-convert:hover {\n",
              "      background-color: #E2EBFA;\n",
              "      box-shadow: 0px 1px 2px rgba(60, 64, 67, 0.3), 0px 1px 3px 1px rgba(60, 64, 67, 0.15);\n",
              "      fill: #174EA6;\n",
              "    }\n",
              "\n",
              "    .colab-df-buttons div {\n",
              "      margin-bottom: 4px;\n",
              "    }\n",
              "\n",
              "    [theme=dark] .colab-df-convert {\n",
              "      background-color: #3B4455;\n",
              "      fill: #D2E3FC;\n",
              "    }\n",
              "\n",
              "    [theme=dark] .colab-df-convert:hover {\n",
              "      background-color: #434B5C;\n",
              "      box-shadow: 0px 1px 3px 1px rgba(0, 0, 0, 0.15);\n",
              "      filter: drop-shadow(0px 1px 2px rgba(0, 0, 0, 0.3));\n",
              "      fill: #FFFFFF;\n",
              "    }\n",
              "  </style>\n",
              "\n",
              "    <script>\n",
              "      const buttonEl =\n",
              "        document.querySelector('#df-a6b5f151-a3e3-4d52-b151-85688e0d3df2 button.colab-df-convert');\n",
              "      buttonEl.style.display =\n",
              "        google.colab.kernel.accessAllowed ? 'block' : 'none';\n",
              "\n",
              "      async function convertToInteractive(key) {\n",
              "        const element = document.querySelector('#df-a6b5f151-a3e3-4d52-b151-85688e0d3df2');\n",
              "        const dataTable =\n",
              "          await google.colab.kernel.invokeFunction('convertToInteractive',\n",
              "                                                    [key], {});\n",
              "        if (!dataTable) return;\n",
              "\n",
              "        const docLinkHtml = 'Like what you see? Visit the ' +\n",
              "          '<a target=\"_blank\" href=https://colab.research.google.com/notebooks/data_table.ipynb>data table notebook</a>'\n",
              "          + ' to learn more about interactive tables.';\n",
              "        element.innerHTML = '';\n",
              "        dataTable['output_type'] = 'display_data';\n",
              "        await google.colab.output.renderOutput(dataTable, element);\n",
              "        const docLink = document.createElement('div');\n",
              "        docLink.innerHTML = docLinkHtml;\n",
              "        element.appendChild(docLink);\n",
              "      }\n",
              "    </script>\n",
              "  </div>\n",
              "\n",
              "\n",
              "<div id=\"df-d762be73-edf2-4f33-87e3-47813ebc10f2\">\n",
              "  <button class=\"colab-df-quickchart\" onclick=\"quickchart('df-d762be73-edf2-4f33-87e3-47813ebc10f2')\"\n",
              "            title=\"Suggest charts\"\n",
              "            style=\"display:none;\">\n",
              "\n",
              "<svg xmlns=\"http://www.w3.org/2000/svg\" height=\"24px\"viewBox=\"0 0 24 24\"\n",
              "     width=\"24px\">\n",
              "    <g>\n",
              "        <path d=\"M19 3H5c-1.1 0-2 .9-2 2v14c0 1.1.9 2 2 2h14c1.1 0 2-.9 2-2V5c0-1.1-.9-2-2-2zM9 17H7v-7h2v7zm4 0h-2V7h2v10zm4 0h-2v-4h2v4z\"/>\n",
              "    </g>\n",
              "</svg>\n",
              "  </button>\n",
              "\n",
              "<style>\n",
              "  .colab-df-quickchart {\n",
              "      --bg-color: #E8F0FE;\n",
              "      --fill-color: #1967D2;\n",
              "      --hover-bg-color: #E2EBFA;\n",
              "      --hover-fill-color: #174EA6;\n",
              "      --disabled-fill-color: #AAA;\n",
              "      --disabled-bg-color: #DDD;\n",
              "  }\n",
              "\n",
              "  [theme=dark] .colab-df-quickchart {\n",
              "      --bg-color: #3B4455;\n",
              "      --fill-color: #D2E3FC;\n",
              "      --hover-bg-color: #434B5C;\n",
              "      --hover-fill-color: #FFFFFF;\n",
              "      --disabled-bg-color: #3B4455;\n",
              "      --disabled-fill-color: #666;\n",
              "  }\n",
              "\n",
              "  .colab-df-quickchart {\n",
              "    background-color: var(--bg-color);\n",
              "    border: none;\n",
              "    border-radius: 50%;\n",
              "    cursor: pointer;\n",
              "    display: none;\n",
              "    fill: var(--fill-color);\n",
              "    height: 32px;\n",
              "    padding: 0;\n",
              "    width: 32px;\n",
              "  }\n",
              "\n",
              "  .colab-df-quickchart:hover {\n",
              "    background-color: var(--hover-bg-color);\n",
              "    box-shadow: 0 1px 2px rgba(60, 64, 67, 0.3), 0 1px 3px 1px rgba(60, 64, 67, 0.15);\n",
              "    fill: var(--button-hover-fill-color);\n",
              "  }\n",
              "\n",
              "  .colab-df-quickchart-complete:disabled,\n",
              "  .colab-df-quickchart-complete:disabled:hover {\n",
              "    background-color: var(--disabled-bg-color);\n",
              "    fill: var(--disabled-fill-color);\n",
              "    box-shadow: none;\n",
              "  }\n",
              "\n",
              "  .colab-df-spinner {\n",
              "    border: 2px solid var(--fill-color);\n",
              "    border-color: transparent;\n",
              "    border-bottom-color: var(--fill-color);\n",
              "    animation:\n",
              "      spin 1s steps(1) infinite;\n",
              "  }\n",
              "\n",
              "  @keyframes spin {\n",
              "    0% {\n",
              "      border-color: transparent;\n",
              "      border-bottom-color: var(--fill-color);\n",
              "      border-left-color: var(--fill-color);\n",
              "    }\n",
              "    20% {\n",
              "      border-color: transparent;\n",
              "      border-left-color: var(--fill-color);\n",
              "      border-top-color: var(--fill-color);\n",
              "    }\n",
              "    30% {\n",
              "      border-color: transparent;\n",
              "      border-left-color: var(--fill-color);\n",
              "      border-top-color: var(--fill-color);\n",
              "      border-right-color: var(--fill-color);\n",
              "    }\n",
              "    40% {\n",
              "      border-color: transparent;\n",
              "      border-right-color: var(--fill-color);\n",
              "      border-top-color: var(--fill-color);\n",
              "    }\n",
              "    60% {\n",
              "      border-color: transparent;\n",
              "      border-right-color: var(--fill-color);\n",
              "    }\n",
              "    80% {\n",
              "      border-color: transparent;\n",
              "      border-right-color: var(--fill-color);\n",
              "      border-bottom-color: var(--fill-color);\n",
              "    }\n",
              "    90% {\n",
              "      border-color: transparent;\n",
              "      border-bottom-color: var(--fill-color);\n",
              "    }\n",
              "  }\n",
              "</style>\n",
              "\n",
              "  <script>\n",
              "    async function quickchart(key) {\n",
              "      const quickchartButtonEl =\n",
              "        document.querySelector('#' + key + ' button');\n",
              "      quickchartButtonEl.disabled = true;  // To prevent multiple clicks.\n",
              "      quickchartButtonEl.classList.add('colab-df-spinner');\n",
              "      try {\n",
              "        const charts = await google.colab.kernel.invokeFunction(\n",
              "            'suggestCharts', [key], {});\n",
              "      } catch (error) {\n",
              "        console.error('Error during call to suggestCharts:', error);\n",
              "      }\n",
              "      quickchartButtonEl.classList.remove('colab-df-spinner');\n",
              "      quickchartButtonEl.classList.add('colab-df-quickchart-complete');\n",
              "    }\n",
              "    (() => {\n",
              "      let quickchartButtonEl =\n",
              "        document.querySelector('#df-d762be73-edf2-4f33-87e3-47813ebc10f2 button');\n",
              "      quickchartButtonEl.style.display =\n",
              "        google.colab.kernel.accessAllowed ? 'block' : 'none';\n",
              "    })();\n",
              "  </script>\n",
              "</div>\n",
              "\n",
              "    </div>\n",
              "  </div>\n"
            ],
            "application/vnd.google.colaboratory.intrinsic+json": {
              "type": "dataframe",
              "variable_name": "retail_data"
            }
          },
          "metadata": {},
          "execution_count": 153
        }
      ]
    },
    {
      "cell_type": "code",
      "source": [
        "# name of the columns\n",
        "retail_data.columns"
      ],
      "metadata": {
        "colab": {
          "base_uri": "https://localhost:8080/"
        },
        "id": "v_fvL4f9Z0QK",
        "outputId": "179b3c39-1202-4ca8-d706-ca40456e7576"
      },
      "execution_count": 154,
      "outputs": [
        {
          "output_type": "execute_result",
          "data": {
            "text/plain": [
              "Index(['Transaction_ID', 'Customer_ID', 'Name', 'Email', 'Phone', 'Address',\n",
              "       'City', 'State', 'Zipcode', 'Country', 'Age', 'Gender', 'Income',\n",
              "       'Customer_Segment', 'Date', 'Year', 'Month', 'Time', 'Total_Purchases',\n",
              "       'Amount', 'Total_Amount', 'Product_Category', 'Product_Brand',\n",
              "       'Product_Type', 'Feedback', 'Shipping_Method', 'Payment_Method',\n",
              "       'Order_Status', 'Ratings', 'products'],\n",
              "      dtype='object')"
            ]
          },
          "metadata": {},
          "execution_count": 154
        }
      ]
    },
    {
      "cell_type": "code",
      "source": [
        "# data types of the retail_data\n",
        "print(retail_data.info())"
      ],
      "metadata": {
        "colab": {
          "base_uri": "https://localhost:8080/"
        },
        "id": "4AqlTr9qdB2j",
        "outputId": "e6af3e28-4ef0-4047-f645-1e90509bcdbf"
      },
      "execution_count": 155,
      "outputs": [
        {
          "output_type": "stream",
          "name": "stdout",
          "text": [
            "<class 'pandas.core.frame.DataFrame'>\n",
            "RangeIndex: 302010 entries, 0 to 302009\n",
            "Data columns (total 30 columns):\n",
            " #   Column            Non-Null Count   Dtype  \n",
            "---  ------            --------------   -----  \n",
            " 0   Transaction_ID    301677 non-null  float64\n",
            " 1   Customer_ID       301702 non-null  float64\n",
            " 2   Name              301628 non-null  object \n",
            " 3   Email             301663 non-null  object \n",
            " 4   Phone             301648 non-null  float64\n",
            " 5   Address           301695 non-null  object \n",
            " 6   City              301762 non-null  object \n",
            " 7   State             301729 non-null  object \n",
            " 8   Zipcode           301670 non-null  float64\n",
            " 9   Country           301739 non-null  object \n",
            " 10  Age               301837 non-null  float64\n",
            " 11  Gender            301693 non-null  object \n",
            " 12  Income            301720 non-null  object \n",
            " 13  Customer_Segment  301795 non-null  object \n",
            " 14  Date              301651 non-null  object \n",
            " 15  Year              301660 non-null  float64\n",
            " 16  Month             301737 non-null  object \n",
            " 17  Time              301660 non-null  object \n",
            " 18  Total_Purchases   301649 non-null  float64\n",
            " 19  Amount            301653 non-null  float64\n",
            " 20  Total_Amount      301660 non-null  float64\n",
            " 21  Product_Category  301727 non-null  object \n",
            " 22  Product_Brand     301729 non-null  object \n",
            " 23  Product_Type      302010 non-null  object \n",
            " 24  Feedback          301826 non-null  object \n",
            " 25  Shipping_Method   301673 non-null  object \n",
            " 26  Payment_Method    301713 non-null  object \n",
            " 27  Order_Status      301775 non-null  object \n",
            " 28  Ratings           301826 non-null  float64\n",
            " 29  products          302010 non-null  object \n",
            "dtypes: float64(10), object(20)\n",
            "memory usage: 69.1+ MB\n",
            "None\n"
          ]
        }
      ]
    },
    {
      "cell_type": "code",
      "source": [
        "# total number of the missing value in total\n",
        "retail_data.isnull().sum()\n"
      ],
      "metadata": {
        "colab": {
          "base_uri": "https://localhost:8080/"
        },
        "id": "Gz6_WRW0dQIA",
        "outputId": "4c491fdf-dcad-45f5-9556-8c600c248c6c"
      },
      "execution_count": 156,
      "outputs": [
        {
          "output_type": "execute_result",
          "data": {
            "text/plain": [
              "Transaction_ID      333\n",
              "Customer_ID         308\n",
              "Name                382\n",
              "Email               347\n",
              "Phone               362\n",
              "Address             315\n",
              "City                248\n",
              "State               281\n",
              "Zipcode             340\n",
              "Country             271\n",
              "Age                 173\n",
              "Gender              317\n",
              "Income              290\n",
              "Customer_Segment    215\n",
              "Date                359\n",
              "Year                350\n",
              "Month               273\n",
              "Time                350\n",
              "Total_Purchases     361\n",
              "Amount              357\n",
              "Total_Amount        350\n",
              "Product_Category    283\n",
              "Product_Brand       281\n",
              "Product_Type          0\n",
              "Feedback            184\n",
              "Shipping_Method     337\n",
              "Payment_Method      297\n",
              "Order_Status        235\n",
              "Ratings             184\n",
              "products              0\n",
              "dtype: int64"
            ]
          },
          "metadata": {},
          "execution_count": 156
        }
      ]
    },
    {
      "cell_type": "code",
      "source": [
        "retail_data.isnull().sum().sum()\n"
      ],
      "metadata": {
        "colab": {
          "base_uri": "https://localhost:8080/"
        },
        "id": "64THCrFhnbE6",
        "outputId": "2fb90799-40c7-4b56-fc60-d4f13b4ae5b6"
      },
      "execution_count": 130,
      "outputs": [
        {
          "output_type": "execute_result",
          "data": {
            "text/plain": [
              "2278"
            ]
          },
          "metadata": {},
          "execution_count": 130
        }
      ]
    },
    {
      "cell_type": "markdown",
      "source": [
        "#### Handling missing value"
      ],
      "metadata": {
        "id": "Pp4OpioCqFET"
      }
    },
    {
      "cell_type": "code",
      "source": [
        "shipping_methods = retail_data['Shipping_Method']\n",
        "\n",
        "# calculate the distribution\n",
        "standard = (shipping_methods == 'Standard').sum() / len(shipping_methods)\n",
        "same_day = (shipping_methods == 'Same-Day').sum() / len(shipping_methods)\n",
        "express = (shipping_methods == 'Express').sum() / len(shipping_methods)\n",
        "missing = (shipping_methods.isna()).sum() / len(shipping_methods)\n",
        "\n",
        "print(\"Standard:\", standard)\n",
        "print(\"Same-Day:\", same_day)\n",
        "print(\"Express:\", express)\n",
        "print(\"Missing values:\", missing)"
      ],
      "metadata": {
        "colab": {
          "base_uri": "https://localhost:8080/"
        },
        "id": "w9PCyHngn81S",
        "outputId": "1cd7258f-6933-43bb-faf8-e418ee062ec4"
      },
      "execution_count": 157,
      "outputs": [
        {
          "output_type": "stream",
          "name": "stdout",
          "text": [
            "Standard: 0.31509221548955335\n",
            "Same-Day: 0.34487599748352704\n",
            "Express: 0.3389159299360948\n",
            "Missing values: 0.0011158570908248071\n"
          ]
        }
      ]
    },
    {
      "cell_type": "code",
      "source": [
        "retail_data['Shipping_Method'].fillna('Same-Day', inplace=True)"
      ],
      "metadata": {
        "id": "r0hmw12oo3Hf"
      },
      "execution_count": 158,
      "outputs": []
    },
    {
      "cell_type": "code",
      "source": [
        "# replace missing value with the unique 7 digit\n",
        "def generate_unique_transaction_id(existing_ids, n):\n",
        "    unique_ids = set(existing_ids.dropna())\n",
        "    new_ids = []\n",
        "    while len(new_ids) < n:\n",
        "        new_id = np.random.randint(1000000, 9999999)\n",
        "        if new_id not in unique_ids:\n",
        "            unique_ids.add(new_id)\n",
        "            new_ids.append(new_id)\n",
        "    return new_ids\n",
        "\n",
        "# fill missing value with unique 7-digit random value\n",
        "missing_transaction_ids = retail_data[\"Transaction_ID\"].isna().sum()\n",
        "unique_ids = generate_unique_transaction_id(retail_data[\"Transaction_ID\"], missing_transaction_ids)\n",
        "retail_data.loc[retail_data['Transaction_ID'].isna(), 'Transaction_ID'] = unique_ids\n",
        "retail_data[\"Transaction_ID\"].isnull().sum()"
      ],
      "metadata": {
        "colab": {
          "base_uri": "https://localhost:8080/"
        },
        "id": "ScXLdM6ie52c",
        "outputId": "c3b34c03-982c-4acb-cc6d-95e18920bb30"
      },
      "execution_count": 159,
      "outputs": [
        {
          "output_type": "execute_result",
          "data": {
            "text/plain": [
              "0"
            ]
          },
          "metadata": {},
          "execution_count": 159
        }
      ]
    },
    {
      "cell_type": "code",
      "source": [
        "# replace missing value with the unique 7 digit\n",
        "\n",
        "def generate_unique_customer_id(existing_ids, n):\n",
        "    unique_ids = set(existing_ids.dropna())\n",
        "    new_ids = []\n",
        "    while len(new_ids) < n:\n",
        "        new_id = np.random.randint(10000,99999)\n",
        "        if new_id not in unique_ids:\n",
        "            unique_ids.add(new_id)\n",
        "            new_ids.append(new_id)\n",
        "    return new_ids\n",
        "\n",
        "missing_customer_ids = retail_data[\"Customer_ID\"].isna().sum()\n",
        "unique_ids = generate_unique_customer_id(retail_data[\"Customer_ID\"], missing_customer_ids)\n",
        "retail_data.loc[retail_data['Customer_ID'].isna(), 'Customer_ID'] = unique_ids\n",
        "retail_data[\"Customer_ID\"].isnull().sum()"
      ],
      "metadata": {
        "colab": {
          "base_uri": "https://localhost:8080/"
        },
        "id": "VyGkSEfKhnnD",
        "outputId": "f5cf4826-534c-4b28-f45c-f2ba07f07c16"
      },
      "execution_count": 160,
      "outputs": [
        {
          "output_type": "execute_result",
          "data": {
            "text/plain": [
              "0"
            ]
          },
          "metadata": {},
          "execution_count": 160
        }
      ]
    },
    {
      "cell_type": "code",
      "source": [
        "def generate_unique_phone_numbers(existing_ids, n):\n",
        "    unique_ids = set(existing_ids.dropna().astype(int))\n",
        "    new_ids = []\n",
        "    while len(new_ids) < n:\n",
        "        new_id = np.random.randint(1000000000, 9999999999)\n",
        "        if new_id not in unique_ids:\n",
        "            unique_ids.add(new_id)\n",
        "            new_ids.append(new_id)\n",
        "    return new_ids\n",
        "\n",
        "# count missing phone numbers\n",
        "missing_phone_numbers = retail_data[\"Phone\"].isna().sum()\n",
        "\n",
        "# generate unique phone numbers\n",
        "unique_phone_numbers = generate_unique_phone_numbers(retail_data[\"Phone\"], missing_phone_numbers)\n",
        "\n",
        "# fill missing phone numbers with generated unique numbers\n",
        "retail_data.loc[retail_data['Phone'].isna(), 'Phone'] = unique_phone_numbers\n",
        "\n",
        "retail_data[\"Phone\"].isnull().sum()\n"
      ],
      "metadata": {
        "colab": {
          "base_uri": "https://localhost:8080/"
        },
        "id": "lWCpeI2C9dBC",
        "outputId": "3b72b44b-bf4e-458b-8eae-c35b40fffd36"
      },
      "execution_count": 161,
      "outputs": [
        {
          "output_type": "execute_result",
          "data": {
            "text/plain": [
              "0"
            ]
          },
          "metadata": {},
          "execution_count": 161
        }
      ]
    },
    {
      "cell_type": "code",
      "source": [
        "# convert it into date\n",
        "retail_data['Date'] = retail_data['Date'].str.replace('-', '/')\n",
        "# delete all row with NaN value\n",
        "retail_data.dropna(subset=[\"Date\"], inplace=True)\n",
        "retail_data['Date'].isnull().sum()"
      ],
      "metadata": {
        "colab": {
          "base_uri": "https://localhost:8080/"
        },
        "id": "ndPLzoVg3ujz",
        "outputId": "734e9c6b-ae41-48e6-b30e-de6d349d682c"
      },
      "execution_count": 162,
      "outputs": [
        {
          "output_type": "execute_result",
          "data": {
            "text/plain": [
              "0"
            ]
          },
          "metadata": {},
          "execution_count": 162
        }
      ]
    },
    {
      "cell_type": "code",
      "source": [
        "# fill missing year with mode\n",
        "retail_data['Year'].fillna(retail_data['Year'].mode()[0], inplace=True)\n",
        "print(\"Number of missing Year values:\", retail_data['Year'].isnull().sum())\n",
        "\n",
        "# fill missing total_purchases with mode\n",
        "retail_data['Total_Purchases'].fillna(retail_data['Total_Purchases'].mode()[0], inplace=True)\n",
        "print(\"Number of missing Total_Purchases values:\", retail_data['Total_Purchases'].isnull().sum())\n",
        "\n",
        "# fill missing amount with mean\n",
        "retail_data['Amount'].fillna(retail_data['Amount'].mean(), inplace=True)\n",
        "print(\"Number of missing Amount values:\", retail_data['Amount'].isnull().sum())\n",
        "\n",
        "# fill missing total_amount with mean\n",
        "retail_data['Total_Amount'].fillna(retail_data['Total_Amount'].mean(), inplace=True)\n",
        "print(\"Number of missing Total_Amount values:\", retail_data['Total_Amount'].isnull().sum())\n",
        "\n",
        "# fill missing product_category with mode\n",
        "retail_data['Product_Category'].fillna(retail_data['Product_Category'].mode()[0], inplace=True)\n",
        "print(\"Number of missing Product_Category values:\", retail_data['Product_Category'].isnull().sum())\n",
        "\n",
        "# drop rows with missing product_brand\n",
        "retail_data.dropna(subset=[\"Product_Brand\"], inplace=True)\n",
        "print(\"Number of missing Product_Brand values:\", retail_data['Product_Brand'].isnull().sum())\n",
        "\n",
        "# fill missing feedback with mode\n",
        "retail_data['Feedback'].fillna(retail_data['Feedback'].mode()[0], inplace=True)\n",
        "print(\"Number of missing Feedback values:\", retail_data['Feedback'].isnull().sum())\n",
        "\n",
        "# fill missing ratings with mode\n",
        "retail_data['Ratings'].fillna(retail_data['Ratings'].mode()[0], inplace=True)\n",
        "print(\"Number of missing Ratings values:\", retail_data['Ratings'].isnull().sum())\n",
        "\n",
        "# fill missing order_status with \"delivered\"\n",
        "retail_data['Order_Status'].fillna('Delivered', inplace=True)\n",
        "print(\"Number of missing Order_Status values:\", retail_data['Order_Status'].isnull().sum())\n",
        "\n",
        "# fill missing payment_method with \"credit card\"\n",
        "retail_data['Payment_Method'].fillna('Credit Card', inplace=True)\n",
        "print(\"Number of missing Payment_Method values:\", retail_data['Payment_Method'].isnull().sum())\n",
        "\n",
        "# fill missing email with \"unknown\"\n",
        "retail_data['Email'].fillna('Unknown', inplace=True)\n",
        "print(\"Number of missing Email values:\", retail_data['Email'].isnull().sum())\n",
        "\n",
        "# fill missing name with \"unknown\"\n",
        "retail_data['Name'].fillna('Unknown', inplace=True)\n",
        "print(\"Number of missing Name values:\", retail_data['Name'].isnull().sum())\n",
        "\n",
        "# fill missing customer_segment with mode\n",
        "retail_data['Customer_Segment'].fillna(retail_data['Customer_Segment'].mode()[0], inplace=True)\n",
        "print(\"Number of missing Customer_Segment values:\", retail_data['Customer_Segment'].isnull().sum())\n",
        "\n",
        "# fill missing income with mode\n",
        "retail_data['Income'].fillna(retail_data['Income'].mode()[0], inplace=True)\n",
        "print(\"Number of missing Income values:\", retail_data['Income'].isnull().sum())\n",
        "\n",
        "# fill missing zipcode with 0\n",
        "retail_data['Zipcode'].fillna(0, inplace=True)\n",
        "print(\"Number of missing Zipcode values:\", retail_data['Zipcode'].isnull().sum())\n",
        "\n",
        "# fill missing age with mean\n",
        "retail_data['Age'].fillna(retail_data['Age'].mean(), inplace=True)\n",
        "print(\"Number of missing Age values:\", retail_data['Age'].isnull().sum())\n",
        "\n",
        "# fill missing address with \"unknown\"\n",
        "retail_data['Address'].fillna('Unknown', inplace=True)\n",
        "print(\"Number of missing Address values:\", retail_data['Address'].isnull().sum())\n",
        "\n",
        "# fill missing city with \"unknown\"\n",
        "retail_data['City'].fillna('Unknown', inplace=True)\n",
        "print(\"Number of missing City values:\", retail_data['City'].isnull().sum())\n",
        "\n",
        "# fill missing state with \"unknown\"\n",
        "retail_data['State'].fillna('Unknown', inplace=True)\n",
        "print(\"Number of missing State values:\", retail_data['State'].isnull().sum())\n",
        "\n",
        "# fill missing gender with \"unknown\"\n",
        "retail_data['Gender'].fillna('Unknown', inplace=True)\n",
        "print(\"Number of missing Gender values:\", retail_data['Gender'].isnull().sum())\n",
        "\n",
        "# fill missing country with \"unknown\"\n",
        "retail_data['Country'].fillna('Unknown', inplace=True)\n",
        "print(\"Number of missing Country values:\", retail_data['Country'].isnull().sum())\n",
        "\n",
        "# drop rows with missing month\n",
        "retail_data.dropna(subset=['Month'], inplace=True)\n",
        "print(\"Number of missing Month values:\", retail_data['Month'].isnull().sum())\n",
        "\n",
        "# drop rows with missing time\n",
        "retail_data.dropna(subset=[\"Time\"], inplace=True)\n",
        "print(\"Number of missing Time values:\", retail_data['Time'].isnull().sum())\n",
        "\n",
        "# standardize date format and drop rows with missing date\n",
        "retail_data['Date'] = retail_data['Date'].str.replace('-', '/')\n",
        "retail_data.dropna(subset=[\"Date\"], inplace=True)\n",
        "print(\"Number of missing Date values:\", retail_data['Date'].isnull().sum())\n"
      ],
      "metadata": {
        "colab": {
          "base_uri": "https://localhost:8080/"
        },
        "id": "y6_3_PVWBdDA",
        "outputId": "b517272f-d036-47a2-8824-3f9f31a81ef9"
      },
      "execution_count": 163,
      "outputs": [
        {
          "output_type": "stream",
          "name": "stdout",
          "text": [
            "Number of missing Year values: 0\n",
            "Number of missing Total_Purchases values: 0\n",
            "Number of missing Amount values: 0\n",
            "Number of missing Total_Amount values: 0\n",
            "Number of missing Product_Category values: 0\n",
            "Number of missing Product_Brand values: 0\n",
            "Number of missing Feedback values: 0\n",
            "Number of missing Ratings values: 0\n",
            "Number of missing Order_Status values: 0\n",
            "Number of missing Payment_Method values: 0\n",
            "Number of missing Email values: 0\n",
            "Number of missing Name values: 0\n",
            "Number of missing Customer_Segment values: 0\n",
            "Number of missing Income values: 0\n",
            "Number of missing Zipcode values: 0\n",
            "Number of missing Age values: 0\n",
            "Number of missing Address values: 0\n",
            "Number of missing City values: 0\n",
            "Number of missing State values: 0\n",
            "Number of missing Gender values: 0\n",
            "Number of missing Country values: 0\n",
            "Number of missing Month values: 0\n",
            "Number of missing Time values: 0\n",
            "Number of missing Date values: 0\n"
          ]
        }
      ]
    },
    {
      "cell_type": "code",
      "source": [
        "retail_data.isnull().sum()\n"
      ],
      "metadata": {
        "colab": {
          "base_uri": "https://localhost:8080/"
        },
        "id": "fiWCpOQbBvWO",
        "outputId": "1b22e1a0-034c-45ae-9310-21f1b25d8021"
      },
      "execution_count": 164,
      "outputs": [
        {
          "output_type": "execute_result",
          "data": {
            "text/plain": [
              "Transaction_ID      0\n",
              "Customer_ID         0\n",
              "Name                0\n",
              "Email               0\n",
              "Phone               0\n",
              "Address             0\n",
              "City                0\n",
              "State               0\n",
              "Zipcode             0\n",
              "Country             0\n",
              "Age                 0\n",
              "Gender              0\n",
              "Income              0\n",
              "Customer_Segment    0\n",
              "Date                0\n",
              "Year                0\n",
              "Month               0\n",
              "Time                0\n",
              "Total_Purchases     0\n",
              "Amount              0\n",
              "Total_Amount        0\n",
              "Product_Category    0\n",
              "Product_Brand       0\n",
              "Product_Type        0\n",
              "Feedback            0\n",
              "Shipping_Method     0\n",
              "Payment_Method      0\n",
              "Order_Status        0\n",
              "Ratings             0\n",
              "products            0\n",
              "dtype: int64"
            ]
          },
          "metadata": {},
          "execution_count": 164
        }
      ]
    },
    {
      "cell_type": "code",
      "source": [],
      "metadata": {
        "id": "P7ftPHXRl6J-"
      },
      "execution_count": 128,
      "outputs": []
    }
  ]
}